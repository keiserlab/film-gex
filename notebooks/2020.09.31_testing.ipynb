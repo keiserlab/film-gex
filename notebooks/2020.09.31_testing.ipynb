{
 "cells": [
  {
   "cell_type": "code",
   "execution_count": 1,
   "metadata": {},
   "outputs": [],
   "source": [
    "%load_ext autoreload\n",
    "%autoreload 2\n",
    "%load_ext tensorboard\n",
    "\n",
    "import sys\n",
    "import os\n",
    "module_path = os.path.abspath(os.path.join(os.pardir))\n",
    "if module_path not in sys.path:\n",
    "    sys.path.append(module_path)"
   ]
  },
  {
   "cell_type": "code",
   "execution_count": 2,
   "metadata": {},
   "outputs": [],
   "source": [
    "from datetime import datetime\n",
    "import pandas as pd\n",
    "import numpy as np\n",
    "import joblib\n",
    "from pathlib import Path\n",
    "from sklearn import model_selection\n",
    "from pytorch_lightning import Trainer, seed_everything\n",
    "from pytorch_lightning.callbacks import EarlyStopping"
   ]
  },
  {
   "cell_type": "code",
   "execution_count": 18,
   "metadata": {},
   "outputs": [],
   "source": [
    "from pytorch_lightning import Trainer, seed_everything\n",
    "from pytorch_lightning.callbacks import EarlyStopping\n",
    "from pytorch_lightning.loggers.tensorboard import TensorBoardLogger\n",
    "\n",
    "from project.datasets import Dataset, CTRPDataModule\n",
    "from project.models import FiLMNetwork, ConcatNetwork, ConditionalNetwork"
   ]
  },
  {
   "cell_type": "code",
   "execution_count": 7,
   "metadata": {},
   "outputs": [],
   "source": [
    "import pyarrow.dataset as ds\n",
    "import pyarrow.feather as feather"
   ]
  },
  {
   "cell_type": "code",
   "execution_count": 8,
   "metadata": {},
   "outputs": [],
   "source": [
    "def prepare(exp, subset=True):\n",
    "    data_path = Path(\"../../film-gex-data/processed/\")\n",
    "    input_cols = joblib.load(data_path.joinpath(\"gene_cols.pkl\"))\n",
    "    \n",
    "    if exp=='id':\n",
    "        cpd_id = \"master_cpd_id\"\n",
    "        cond_cols = np.array([cpd_id, 'cpd_conc_umol'])\n",
    "    else:\n",
    "        fp_cols = joblib.load(data_path.joinpath(\"fp_cols.pkl\"))\n",
    "        cond_cols = np.append(fp_cols, ['cpd_conc_umol'])\n",
    "        \n",
    "    if subset:\n",
    "        dataset = ds.dataset(data_path.joinpath(\"train_sub.feather\"), format='feather')\n",
    "    else:\n",
    "        dataset = ds.dataset(data_path.joinpath(\"train.feather\"), format='feather')\n",
    "\n",
    "    return dataset, input_cols, cond_cols\n",
    "\n",
    "\n",
    "def cv(name, exp, gpus, nfolds, dataset, input_cols, cond_cols, batch_size):\n",
    "    seed_everything(2299)\n",
    "    cols = list(np.concatenate((input_cols, cond_cols, ['cpd_avg_pv'])))\n",
    "\n",
    "    for fold in np.arange(0,nfolds):\n",
    "        start = datetime.now()\n",
    "        train = dataset.to_table(columns=cols, filter=ds.field('fold') != fold).to_pandas()\n",
    "        val = dataset.to_table(columns=cols, filter=ds.field('fold') == fold).to_pandas()\n",
    "        # DataModule\n",
    "        dm = CTRPDataModule(train,\n",
    "                            val,\n",
    "                            input_cols,\n",
    "                            cond_cols,\n",
    "                            target='cpd_avg_pv',\n",
    "                            batch_size=batch_size)\n",
    "        print(\"Completed dataloading in {}\".format(str(datetime.now() - start)))\n",
    "        # Model\n",
    "        start = datetime.now()\n",
    "        if exp=='film':\n",
    "            model = FiLMNetwork(len(input_cols), len(cond_cols))\n",
    "        else:\n",
    "            model = ConcatNetwork(len(input_cols), len(cond_cols))\n",
    "        # Callbacks\n",
    "        logger = TensorBoardLogger(save_dir=os.getcwd(),\n",
    "                                   version=\"{}_{}_fold_{}\".format(name, exp, fold),\n",
    "                                   name='lightning_logs')\n",
    "        early_stop = EarlyStopping(monitor='val_loss',\n",
    "                                   min_delta=0.01)\n",
    "        # Trainer\n",
    "        start = datetime.now()\n",
    "        trainer = Trainer(auto_lr_find=True,\n",
    "                          auto_scale_batch_size=False,\n",
    "                          max_epochs=25, \n",
    "                          gpus=[1,3],\n",
    "                          logger=logger,\n",
    "                          early_stop_callback=False,\n",
    "                          distributed_backend='dp')\n",
    "        print(\"Completed loading in {}\".format(str(datetime.now() - start)))\n",
    "        trainer.fit(model, dm)\n",
    "        print(\"Completed fold {} in {}\".format(fold, str(datetime.now() - start)))\n",
    "    \n",
    "    return print(\"/done\")"
   ]
  },
  {
   "cell_type": "code",
   "execution_count": 9,
   "metadata": {},
   "outputs": [],
   "source": [
    "dataset, input_cols, cond_cols = prepare('id', subset=True)"
   ]
  },
  {
   "cell_type": "code",
   "execution_count": 12,
   "metadata": {},
   "outputs": [],
   "source": [
    "name = 'test'\n",
    "exp = 'id'\n",
    "gpus = 3\n",
    "nfolds = 1"
   ]
  },
  {
   "cell_type": "code",
   "execution_count": 26,
   "metadata": {},
   "outputs": [],
   "source": [
    "model = ConditionalNetwork(exp, len(input_cols), len(cond_cols), batch_size=256)"
   ]
  },
  {
   "cell_type": "code",
   "execution_count": 27,
   "metadata": {},
   "outputs": [
    {
     "data": {
      "text/plain": [
       "\"batch_size\":    256\n",
       "\"conds_sz\":      2\n",
       "\"exp\":           id\n",
       "\"inputs_sz\":     978\n",
       "\"learning_rate\": 0.001\n",
       "\"metric\":        <function r2_score at 0x7fa5c34c8e50>\n",
       "\"ps\":            [0.2]"
      ]
     },
     "execution_count": 27,
     "metadata": {},
     "output_type": "execute_result"
    }
   ],
   "source": [
    "model.hparams"
   ]
  },
  {
   "cell_type": "code",
   "execution_count": 1,
   "metadata": {},
   "outputs": [],
   "source": [
    "#cv(name, exp, gpus, nfolds, dataset, input_cols, cond_cols, batch_size=256)"
   ]
  },
  {
   "cell_type": "code",
   "execution_count": null,
   "metadata": {},
   "outputs": [],
   "source": [
    "name"
   ]
  },
  {
   "cell_type": "code",
   "execution_count": 6,
   "metadata": {},
   "outputs": [],
   "source": [
    "logger = TensorBoardLogger(save_dir=os.getcwd(),\n",
    "                           version=\"{}_{}_fold_{}\",\n",
    "                           name='lightning_logs')"
   ]
  },
  {
   "cell_type": "code",
   "execution_count": 8,
   "metadata": {},
   "outputs": [
    {
     "data": {
      "text/plain": [
       "'/srv/home/wconnell/github/film-gex/notebooks/lightning_logs/{}_{}_fold_{}'"
      ]
     },
     "execution_count": 8,
     "metadata": {},
     "output_type": "execute_result"
    }
   ],
   "source": [
    "logger.log_dir"
   ]
  },
  {
   "cell_type": "code",
   "execution_count": 15,
   "metadata": {},
   "outputs": [
    {
     "name": "stderr",
     "output_type": "stream",
     "text": [
      "GPU available: True, used: False\n",
      "TPU available: False, using: 0 TPU cores\n"
     ]
    }
   ],
   "source": [
    "trainer = Trainer(logger=logger)"
   ]
  },
  {
   "cell_type": "code",
   "execution_count": 16,
   "metadata": {},
   "outputs": [
    {
     "data": {
      "text/plain": [
       "'/srv/home/wconnell/github/film-gex/notebooks'"
      ]
     },
     "execution_count": 16,
     "metadata": {},
     "output_type": "execute_result"
    }
   ],
   "source": [
    "trainer.default_root_dir"
   ]
  },
  {
   "cell_type": "code",
   "execution_count": 17,
   "metadata": {},
   "outputs": [
    {
     "data": {
      "text/plain": [
       "'/srv/home/wconnell/github/film-gex/notebooks/lightning_logs/{}_{}_fold_{}'"
      ]
     },
     "execution_count": 17,
     "metadata": {},
     "output_type": "execute_result"
    }
   ],
   "source": [
    "trainer.logger.log_dir"
   ]
  },
  {
   "cell_type": "code",
   "execution_count": 18,
   "metadata": {},
   "outputs": [
    {
     "name": "stdout",
     "output_type": "stream",
     "text": [
      "Object `trainer.log` not found.\n"
     ]
    }
   ],
   "source": [
    "FiLMNetwork.log()"
   ]
  },
  {
   "cell_type": "code",
   "execution_count": null,
   "metadata": {},
   "outputs": [],
   "source": []
  }
 ],
 "metadata": {
  "kernelspec": {
   "display_name": "Python [conda env:lightning]",
   "language": "python",
   "name": "conda-env-lightning-py"
  },
  "language_info": {
   "codemirror_mode": {
    "name": "ipython",
    "version": 3
   },
   "file_extension": ".py",
   "mimetype": "text/x-python",
   "name": "python",
   "nbconvert_exporter": "python",
   "pygments_lexer": "ipython3",
   "version": "3.8.6"
  }
 },
 "nbformat": 4,
 "nbformat_minor": 2
}
