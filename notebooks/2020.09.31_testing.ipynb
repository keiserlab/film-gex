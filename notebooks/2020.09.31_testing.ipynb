{
 "cells": [
  {
   "cell_type": "code",
   "execution_count": 1,
   "metadata": {},
   "outputs": [],
   "source": [
    "%load_ext autoreload\n",
    "%autoreload 2\n",
    "%load_ext tensorboard\n",
    "\n",
    "import sys\n",
    "import os\n",
    "module_path = os.path.abspath(os.path.join(os.pardir))\n",
    "if module_path not in sys.path:\n",
    "    sys.path.append(module_path)"
   ]
  },
  {
   "cell_type": "code",
   "execution_count": 2,
   "metadata": {},
   "outputs": [],
   "source": [
    "from datetime import datetime\n",
    "import pandas as pd\n",
    "import numpy as np\n",
    "import joblib\n",
    "from pathlib import Path\n",
    "from sklearn import model_selection\n",
    "from pytorch_lightning import Trainer, seed_everything\n",
    "from pytorch_lightning.callbacks import EarlyStopping"
   ]
  },
  {
   "cell_type": "code",
   "execution_count": 3,
   "metadata": {},
   "outputs": [],
   "source": [
    "from pytorch_lightning import Trainer, seed_everything\n",
    "from pytorch_lightning.callbacks import EarlyStopping\n",
    "from pytorch_lightning.loggers.tensorboard import TensorBoardLogger\n",
    "\n",
    "from project.datasets import Dataset, CTRPDataModule\n",
    "from project.film_model import FiLMNetwork, ConcatNetwork"
   ]
  },
  {
   "cell_type": "code",
   "execution_count": 4,
   "metadata": {},
   "outputs": [],
   "source": [
    "import pyarrow.dataset as ds\n",
    "import pyarrow.feather as feather"
   ]
  },
  {
   "cell_type": "code",
   "execution_count": 5,
   "metadata": {},
   "outputs": [],
   "source": [
    "def prepare(exp, subset=True):\n",
    "    data_path = Path(\"../../film-gex-data/processed/\")\n",
    "    input_cols = joblib.load(data_path.joinpath(\"gene_cols.pkl\"))\n",
    "    \n",
    "    if exp=='id':\n",
    "        cpd_id = \"master_cpd_id\"\n",
    "        cond_cols = np.array([cpd_id, 'cpd_conc_umol'])\n",
    "    else:\n",
    "        fp_cols = joblib.load(data_path.joinpath(\"fp_cols.pkl\"))\n",
    "        cond_cols = np.append(fp_cols, ['cpd_conc_umol'])\n",
    "        \n",
    "    if subset:\n",
    "        dataset = ds.dataset(data_path.joinpath(\"train_sub.feather\"), format='feather')\n",
    "    else:\n",
    "        dataset = ds.dataset(data_path.joinpath(\"train.feather\"), format='feather')\n",
    "\n",
    "    return dataset, input_cols, cond_cols\n",
    "\n",
    "\n",
    "def cv(name, exp, gpus, nfolds, dataset, input_cols, cond_cols, batch_size):\n",
    "    seed_everything(2299)\n",
    "    cols = list(np.concatenate((input_cols, cond_cols, ['cpd_avg_pv'])))\n",
    "\n",
    "    for fold in np.arange(0,nfolds):\n",
    "        start = datetime.now()\n",
    "        train = dataset.to_table(columns=cols, filter=ds.field('fold') != fold).to_pandas()\n",
    "        val = dataset.to_table(columns=cols, filter=ds.field('fold') == fold).to_pandas()\n",
    "        # DataModule\n",
    "        dm = CTRPDataModule(train,\n",
    "                            val,\n",
    "                            input_cols,\n",
    "                            cond_cols,\n",
    "                            target='cpd_avg_pv',\n",
    "                            batch_size=batch_size)\n",
    "        print(\"Completed dataloading in {}\".format(str(datetime.now() - start)))\n",
    "        # Model\n",
    "        start = datetime.now()\n",
    "        if exp=='film':\n",
    "            model = FiLMNetwork(len(input_cols), len(cond_cols))\n",
    "        else:\n",
    "            model = ConcatNetwork(len(input_cols), len(cond_cols))\n",
    "        # Callbacks\n",
    "        logger = TensorBoardLogger(save_dir=os.getcwd(),\n",
    "                                   version=\"{}_{}_fold_{}\".format(name, exp, fold),\n",
    "                                   name='lightning_logs')\n",
    "        early_stop = EarlyStopping(monitor='val_loss',\n",
    "                                   min_delta=0.01)\n",
    "        # Trainer\n",
    "        start = datetime.now()\n",
    "        trainer = Trainer(auto_lr_find=True,\n",
    "                          auto_scale_batch_size=False,\n",
    "                          max_epochs=25, \n",
    "                          gpus=[1,3],\n",
    "                          logger=logger,\n",
    "                          early_stop_callback=False,\n",
    "                          distributed_backend='dp')\n",
    "        print(\"Completed loading in {}\".format(str(datetime.now() - start)))\n",
    "        trainer.fit(model, dm)\n",
    "        print(\"Completed fold {} in {}\".format(fold, str(datetime.now() - start)))\n",
    "    \n",
    "    return print(\"/done\")"
   ]
  },
  {
   "cell_type": "code",
   "execution_count": 6,
   "metadata": {},
   "outputs": [],
   "source": [
    "dataset, input_cols, cond_cols = prepare('id', subset=True)"
   ]
  },
  {
   "cell_type": "code",
   "execution_count": 7,
   "metadata": {},
   "outputs": [],
   "source": [
    "name = 'test'\n",
    "exp = 'id'\n",
    "gpus = 3\n",
    "nfolds = 1"
   ]
  },
  {
   "cell_type": "code",
   "execution_count": 8,
   "metadata": {},
   "outputs": [
    {
     "name": "stdout",
     "output_type": "stream",
     "text": [
      "Completed dataloading in 0:00:15.086992\n"
     ]
    },
    {
     "name": "stderr",
     "output_type": "stream",
     "text": [
      "GPU available: True, used: True\n",
      "TPU available: False, using: 0 TPU cores\n",
      "CUDA_VISIBLE_DEVICES: [1,3]\n"
     ]
    },
    {
     "name": "stdout",
     "output_type": "stream",
     "text": [
      "Completed loading in 0:00:00.314845\n",
      "Completed scaling in 0:01:36.945705\n",
      "Completed dataset creation in 0:00:04.603609\n"
     ]
    },
    {
     "name": "stderr",
     "output_type": "stream",
     "text": [
      "\n",
      "  | Name       | Type        | Params\n",
      "-------------------------------------------\n",
      "0 | metric     | R2Score     | 0     \n",
      "1 | inputs_emb | LinearBlock | 677 K \n",
      "2 | conds_emb  | LinearBlock | 96    \n",
      "3 | block_1    | LinearBlock | 1 K   \n",
      "4 | block_2    | LinearBlock | 161   \n",
      "Finding best initial lr:  98%|█████████▊| 98/100 [00:02<00:00, 44.70it/s]Saving latest checkpoint..\n",
      "Learning rate set to 0.0630957344480193\n",
      "/srv/home/wconnell/anaconda3/envs/lightning/lib/python3.8/site-packages/pytorch_lightning/utilities/distributed.py:37: UserWarning: Could not log computational graph since the `model.example_input_array` attribute is not set or `input_array` was not given\n",
      "  warnings.warn(*args, **kwargs)\n",
      "\n",
      "  | Name       | Type        | Params\n",
      "-------------------------------------------\n",
      "0 | metric     | R2Score     | 0     \n",
      "1 | inputs_emb | LinearBlock | 677 K \n",
      "2 | conds_emb  | LinearBlock | 96    \n",
      "3 | block_1    | LinearBlock | 1 K   \n",
      "4 | block_2    | LinearBlock | 161   \n"
     ]
    },
    {
     "name": "stdout",
     "output_type": "stream",
     "text": [
      "Epoch 1:  24%|██▎       | 533/2254 [00:14<00:56, 30.43it/s, loss=0.090, v_num=ld_0]"
     ]
    },
    {
     "name": "stderr",
     "output_type": "stream",
     "text": [
      "Finding best initial lr: 100%|██████████| 100/100 [00:19<00:00, 44.70it/s]"
     ]
    },
    {
     "name": "stdout",
     "output_type": "stream",
     "text": [
      "Epoch 1:  80%|███████▉  | 1799/2254 [00:43<00:11, 39.38it/s, loss=0.093, v_num=ld_0]\n",
      "Validating: 0it [00:00, ?it/s]\u001b[A\n",
      "Epoch 1:  80%|███████▉  | 1800/2254 [00:45<00:12, 37.09it/s, loss=0.093, v_num=ld_0]\n",
      "Epoch 1:  80%|████████  | 1806/2254 [00:46<00:12, 37.11it/s, loss=0.093, v_num=ld_0]\n",
      "Epoch 1:  80%|████████  | 1812/2254 [00:46<00:11, 37.15it/s, loss=0.093, v_num=ld_0]\n",
      "Epoch 1:  81%|████████  | 1819/2254 [00:46<00:11, 37.22it/s, loss=0.093, v_num=ld_0]\n",
      "Epoch 1:  81%|████████  | 1826/2254 [00:46<00:11, 37.27it/s, loss=0.093, v_num=ld_0]\n",
      "Epoch 1:  81%|████████▏ | 1833/2254 [00:46<00:11, 37.31it/s, loss=0.093, v_num=ld_0]\n",
      "Validating:   8%|▊         | 35/455 [00:03<02:19,  3.01it/s]\u001b[A\n",
      "Epoch 1:  82%|████████▏ | 1840/2254 [00:46<00:11, 37.35it/s, loss=0.093, v_num=ld_0]\n",
      "Epoch 1:  82%|████████▏ | 1847/2254 [00:46<00:10, 37.41it/s, loss=0.093, v_num=ld_0]\n",
      "Epoch 1:  82%|████████▏ | 1854/2254 [00:46<00:10, 37.46it/s, loss=0.093, v_num=ld_0]\n",
      "Epoch 1:  83%|████████▎ | 1861/2254 [00:46<00:10, 37.53it/s, loss=0.093, v_num=ld_0]\n",
      "Epoch 1:  83%|████████▎ | 1868/2254 [00:47<00:10, 37.58it/s, loss=0.093, v_num=ld_0]\n",
      "Epoch 1:  83%|████████▎ | 1875/2254 [00:47<00:10, 37.63it/s, loss=0.093, v_num=ld_0]\n",
      "Epoch 1:  83%|████████▎ | 1882/2254 [00:47<00:09, 37.68it/s, loss=0.093, v_num=ld_0]\n",
      "Epoch 1:  84%|████████▍ | 1889/2254 [00:47<00:09, 37.73it/s, loss=0.093, v_num=ld_0]\n",
      "Epoch 1:  84%|████████▍ | 1896/2254 [00:47<00:09, 37.78it/s, loss=0.093, v_num=ld_0]\n",
      "Validating:  22%|██▏       | 98/455 [00:04<00:09, 38.32it/s]\u001b[A\n",
      "Epoch 1:  84%|████████▍ | 1903/2254 [00:47<00:09, 37.83it/s, loss=0.093, v_num=ld_0]\n",
      "Epoch 1:  85%|████████▍ | 1910/2254 [00:47<00:09, 37.89it/s, loss=0.093, v_num=ld_0]\n",
      "Epoch 1:  85%|████████▌ | 1917/2254 [00:47<00:08, 37.95it/s, loss=0.093, v_num=ld_0]\n",
      "Epoch 1:  85%|████████▌ | 1924/2254 [00:48<00:08, 38.00it/s, loss=0.093, v_num=ld_0]\n",
      "Epoch 1:  86%|████████▌ | 1931/2254 [00:48<00:08, 38.05it/s, loss=0.093, v_num=ld_0]\n",
      "Epoch 1:  86%|████████▌ | 1938/2254 [00:48<00:08, 38.10it/s, loss=0.093, v_num=ld_0]\n",
      "Epoch 1:  86%|████████▋ | 1945/2254 [00:48<00:08, 38.16it/s, loss=0.093, v_num=ld_0]\n",
      "Epoch 1:  87%|████████▋ | 1952/2254 [00:48<00:07, 38.22it/s, loss=0.093, v_num=ld_0]\n",
      "Epoch 1:  87%|████████▋ | 1959/2254 [00:48<00:07, 38.29it/s, loss=0.093, v_num=ld_0]\n",
      "Epoch 1:  87%|████████▋ | 1967/2254 [00:48<00:07, 38.36it/s, loss=0.093, v_num=ld_0]\n",
      "Epoch 1:  88%|████████▊ | 1975/2254 [00:48<00:07, 38.44it/s, loss=0.093, v_num=ld_0]\n",
      "Epoch 1:  88%|████████▊ | 1983/2254 [00:48<00:07, 38.51it/s, loss=0.093, v_num=ld_0]\n",
      "Epoch 1:  88%|████████▊ | 1991/2254 [00:49<00:06, 38.58it/s, loss=0.093, v_num=ld_0]\n",
      "Epoch 1:  89%|████████▊ | 1999/2254 [00:49<00:06, 38.64it/s, loss=0.093, v_num=ld_0]\n",
      "Epoch 1:  89%|████████▉ | 2007/2254 [00:49<00:06, 38.68it/s, loss=0.093, v_num=ld_0]\n",
      "Epoch 1:  89%|████████▉ | 2015/2254 [00:49<00:06, 38.73it/s, loss=0.093, v_num=ld_0]\n",
      "Validating:  48%|████▊     | 217/455 [00:06<00:04, 57.71it/s]\u001b[A\n",
      "Epoch 1:  90%|████████▉ | 2023/2254 [00:49<00:05, 38.77it/s, loss=0.093, v_num=ld_0]\n",
      "Epoch 1:  90%|█████████ | 2031/2254 [00:49<00:05, 38.81it/s, loss=0.093, v_num=ld_0]\n",
      "Epoch 1:  90%|█████████ | 2039/2254 [00:49<00:05, 38.86it/s, loss=0.093, v_num=ld_0]\n",
      "Validating:  53%|█████▎    | 241/455 [00:06<00:03, 54.58it/s]\u001b[A\n",
      "Epoch 1:  91%|█████████ | 2047/2254 [00:50<00:05, 38.91it/s, loss=0.093, v_num=ld_0]\n",
      "Epoch 1:  91%|█████████ | 2055/2254 [00:50<00:05, 38.96it/s, loss=0.093, v_num=ld_0]\n",
      "Epoch 1:  92%|█████████▏| 2063/2254 [00:50<00:04, 39.00it/s, loss=0.093, v_num=ld_0]\n",
      "Validating:  58%|█████▊    | 265/455 [00:07<00:03, 54.65it/s]\u001b[A\n",
      "Epoch 1:  92%|█████████▏| 2071/2254 [00:50<00:04, 39.05it/s, loss=0.093, v_num=ld_0]\n",
      "Epoch 1:  92%|█████████▏| 2079/2254 [00:50<00:04, 39.10it/s, loss=0.093, v_num=ld_0]\n",
      "Epoch 1:  93%|█████████▎| 2087/2254 [00:50<00:04, 39.16it/s, loss=0.093, v_num=ld_0]\n",
      "Epoch 1:  93%|█████████▎| 2095/2254 [00:50<00:04, 39.21it/s, loss=0.093, v_num=ld_0]\n",
      "Validating:  65%|██████▌   | 297/455 [00:07<00:02, 56.88it/s]\u001b[A\n",
      "Epoch 1:  93%|█████████▎| 2103/2254 [00:51<00:03, 39.26it/s, loss=0.093, v_num=ld_0]\n",
      "Epoch 1:  94%|█████████▎| 2111/2254 [00:51<00:03, 39.32it/s, loss=0.093, v_num=ld_0]\n",
      "Epoch 1:  94%|█████████▍| 2119/2254 [00:51<00:03, 39.37it/s, loss=0.093, v_num=ld_0]\n",
      "Epoch 1:  94%|█████████▍| 2127/2254 [00:51<00:03, 39.41it/s, loss=0.093, v_num=ld_0]\n",
      "Validating:  72%|███████▏  | 329/455 [00:08<00:02, 56.68it/s]\u001b[A\n",
      "Epoch 1:  95%|█████████▍| 2135/2254 [00:51<00:03, 39.46it/s, loss=0.093, v_num=ld_0]\n",
      "Epoch 1:  95%|█████████▌| 2143/2254 [00:51<00:02, 39.51it/s, loss=0.093, v_num=ld_0]\n",
      "Epoch 1:  95%|█████████▌| 2151/2254 [00:51<00:02, 39.56it/s, loss=0.093, v_num=ld_0]\n",
      "Validating:  78%|███████▊  | 354/455 [00:08<00:01, 56.70it/s]\u001b[A\n",
      "Epoch 1:  96%|█████████▌| 2159/2254 [00:52<00:02, 39.61it/s, loss=0.093, v_num=ld_0]\n",
      "Epoch 1:  96%|█████████▌| 2167/2254 [00:52<00:02, 39.66it/s, loss=0.093, v_num=ld_0]\n",
      "Epoch 1:  96%|█████████▋| 2175/2254 [00:52<00:01, 39.71it/s, loss=0.093, v_num=ld_0]\n",
      "Epoch 1:  97%|█████████▋| 2183/2254 [00:52<00:01, 39.75it/s, loss=0.093, v_num=ld_0]\n",
      "Validating:  85%|████████▍ | 385/455 [00:09<00:01, 56.71it/s]\u001b[A\n",
      "Epoch 1:  97%|█████████▋| 2191/2254 [00:52<00:01, 39.80it/s, loss=0.093, v_num=ld_0]\n",
      "Epoch 1:  98%|█████████▊| 2199/2254 [00:52<00:01, 39.86it/s, loss=0.093, v_num=ld_0]\n",
      "Epoch 1:  98%|█████████▊| 2207/2254 [00:52<00:01, 39.93it/s, loss=0.093, v_num=ld_0]\n",
      "Epoch 1:  98%|█████████▊| 2215/2254 [00:52<00:00, 40.00it/s, loss=0.093, v_num=ld_0]\n",
      "Epoch 1:  99%|█████████▊| 2223/2254 [00:53<00:00, 40.06it/s, loss=0.093, v_num=ld_0]\n",
      "Epoch 1:  99%|█████████▉| 2231/2254 [00:53<00:00, 40.14it/s, loss=0.093, v_num=ld_0]\n",
      "Epoch 1:  99%|█████████▉| 2240/2254 [00:53<00:00, 40.22it/s, loss=0.093, v_num=ld_0]\n",
      "Epoch 1: 100%|█████████▉| 2249/2254 [00:53<00:00, 40.28it/s, loss=0.093, v_num=ld_0]\n",
      "Epoch 1: 100%|██████████| 2254/2254 [00:53<00:00, 40.03it/s, loss=0.093, v_num=ld_0]\n",
      "Epoch 2:  36%|███▌      | 813/2254 [00:20<00:40, 35.43it/s, loss=0.094, v_num=ld_0]"
     ]
    },
    {
     "name": "stderr",
     "output_type": "stream",
     "text": [
      "Finding best initial lr: 100%|██████████| 100/100 [01:19<00:00,  1.25it/s]\n"
     ]
    },
    {
     "name": "stdout",
     "output_type": "stream",
     "text": [
      "Epoch 2:  36%|███▌      | 815/2254 [00:20<00:40, 35.43it/s, loss=0.094, v_num=ld_0]"
     ]
    },
    {
     "name": "stderr",
     "output_type": "stream",
     "text": [
      "Finding best initial lr: 100%|██████████| 100/100 [01:19<00:00,  1.25it/s]\n"
     ]
    },
    {
     "name": "stdout",
     "output_type": "stream",
     "text": [
      "Epoch 2:  36%|███▌      | 817/2254 [00:20<00:40, 35.44it/s, loss=0.093, v_num=ld_0]"
     ]
    },
    {
     "name": "stderr",
     "output_type": "stream",
     "text": [
      "Finding best initial lr: 100%|██████████| 100/100 [01:19<00:00,  1.25it/s]\n"
     ]
    },
    {
     "name": "stdout",
     "output_type": "stream",
     "text": [
      "Epoch 2:  36%|███▋      | 818/2254 [00:20<00:40, 35.44it/s, loss=0.095, v_num=ld_0]"
     ]
    },
    {
     "name": "stderr",
     "output_type": "stream",
     "text": [
      "Finding best initial lr: 100%|██████████| 100/100 [01:19<00:00,  1.25it/s]\n",
      "Finding best initial lr: 100%|██████████| 100/100 [01:19<00:00,  1.25it/s]\n"
     ]
    },
    {
     "name": "stdout",
     "output_type": "stream",
     "text": [
      "Epoch 2:  36%|███▋      | 819/2254 [00:20<00:40, 35.42it/s, loss=0.094, v_num=ld_0]"
     ]
    },
    {
     "name": "stderr",
     "output_type": "stream",
     "text": [
      "Finding best initial lr: 100%|██████████| 100/100 [01:19<00:00,  1.25it/s]\n"
     ]
    },
    {
     "name": "stdout",
     "output_type": "stream",
     "text": [
      "Epoch 2:  36%|███▋      | 821/2254 [00:20<00:40, 35.42it/s, loss=0.094, v_num=ld_0]"
     ]
    },
    {
     "name": "stderr",
     "output_type": "stream",
     "text": [
      "Finding best initial lr: 100%|██████████| 100/100 [01:19<00:00,  1.25it/s]\n"
     ]
    },
    {
     "name": "stdout",
     "output_type": "stream",
     "text": [
      "Epoch 2:  36%|███▋      | 822/2254 [00:20<00:40, 35.42it/s, loss=0.095, v_num=ld_0]"
     ]
    },
    {
     "name": "stderr",
     "output_type": "stream",
     "text": [
      "Finding best initial lr: 100%|██████████| 100/100 [01:19<00:00,  1.25it/s]\n"
     ]
    },
    {
     "name": "stdout",
     "output_type": "stream",
     "text": [
      "Epoch 2:  37%|███▋      | 824/2254 [00:20<00:40, 35.44it/s, loss=0.096, v_num=ld_0]"
     ]
    },
    {
     "name": "stderr",
     "output_type": "stream",
     "text": [
      "Finding best initial lr: 100%|██████████| 100/100 [01:20<00:00,  1.25it/s]\n",
      "Finding best initial lr: 100%|██████████| 100/100 [01:20<00:00,  1.25it/s]\n"
     ]
    },
    {
     "name": "stdout",
     "output_type": "stream",
     "text": [
      "Epoch 2:  37%|███▋      | 825/2254 [00:20<00:40, 35.44it/s, loss=0.095, v_num=ld_0]"
     ]
    },
    {
     "name": "stderr",
     "output_type": "stream",
     "text": [
      "Finding best initial lr: 100%|██████████| 100/100 [01:20<00:00,  1.25it/s]\n"
     ]
    },
    {
     "name": "stdout",
     "output_type": "stream",
     "text": [
      "Epoch 2:  37%|███▋      | 827/2254 [00:20<00:40, 35.43it/s, loss=0.093, v_num=ld_0]"
     ]
    },
    {
     "name": "stderr",
     "output_type": "stream",
     "text": [
      "Finding best initial lr: 100%|██████████| 100/100 [01:20<00:00,  1.25it/s]\n",
      "Finding best initial lr: 100%|██████████| 100/100 [01:20<00:00,  1.25it/s]\n"
     ]
    },
    {
     "name": "stdout",
     "output_type": "stream",
     "text": [
      "Epoch 2:  37%|███▋      | 828/2254 [00:20<00:40, 35.42it/s, loss=0.093, v_num=ld_0]"
     ]
    },
    {
     "name": "stderr",
     "output_type": "stream",
     "text": [
      "Finding best initial lr: 100%|██████████| 100/100 [01:20<00:00,  1.25it/s]\n",
      "Finding best initial lr: 100%|██████████| 100/100 [01:20<00:00,  1.25it/s]\n"
     ]
    },
    {
     "name": "stdout",
     "output_type": "stream",
     "text": [
      "Epoch 2:  37%|███▋      | 833/2254 [00:20<00:40, 35.44it/s, loss=0.092, v_num=ld_0]"
     ]
    },
    {
     "name": "stderr",
     "output_type": "stream",
     "text": [
      "Finding best initial lr: 100%|██████████| 100/100 [01:20<00:00,  1.24it/s]"
     ]
    },
    {
     "name": "stdout",
     "output_type": "stream",
     "text": [
      "Epoch 2:  37%|███▋      | 839/2254 [00:21<00:40, 35.21it/s, loss=0.091, v_num=ld_0]"
     ]
    },
    {
     "name": "stderr",
     "output_type": "stream",
     "text": [
      "\n"
     ]
    },
    {
     "name": "stdout",
     "output_type": "stream",
     "text": [
      "Epoch 2:  45%|████▍     | 1011/2254 [00:25<00:34, 36.41it/s, loss=0.092, v_num=ld_0]"
     ]
    },
    {
     "name": "stderr",
     "output_type": "stream",
     "text": [
      "Finding best initial lr: 100%|██████████| 100/100 [01:24<00:00,  1.18it/s]\n"
     ]
    },
    {
     "name": "stdout",
     "output_type": "stream",
     "text": [
      "Epoch 2:  80%|███████▉  | 1799/2254 [00:43<00:11, 39.28it/s, loss=0.093, v_num=ld_0]\n",
      "Validating: 0it [00:00, ?it/s]\u001b[A\n",
      "Epoch 2:  80%|███████▉  | 1800/2254 [00:46<00:12, 36.86it/s, loss=0.093, v_num=ld_0]\n",
      "Epoch 2:  80%|████████  | 1809/2254 [00:46<00:12, 36.91it/s, loss=0.093, v_num=ld_0]\n",
      "Validating:   3%|▎         | 12/455 [00:03<10:24,  1.41s/it]\u001b[A\n",
      "Epoch 2:  81%|████████  | 1818/2254 [00:46<00:11, 36.99it/s, loss=0.093, v_num=ld_0]\n",
      "Epoch 2:  81%|████████  | 1827/2254 [00:46<00:11, 37.07it/s, loss=0.093, v_num=ld_0]\n",
      "Epoch 2:  81%|████████▏ | 1836/2254 [00:46<00:11, 37.14it/s, loss=0.093, v_num=ld_0]\n",
      "Validating:   8%|▊         | 38/455 [00:03<02:26,  2.85it/s]\u001b[A\n",
      "Epoch 2:  82%|████████▏ | 1845/2254 [00:46<00:10, 37.20it/s, loss=0.093, v_num=ld_0]\n",
      "Epoch 2:  82%|████████▏ | 1854/2254 [00:47<00:10, 37.27it/s, loss=0.093, v_num=ld_0]\n",
      "Validating:  12%|█▏        | 56/455 [00:03<00:52,  7.57it/s]\u001b[A\n",
      "Epoch 2:  83%|████████▎ | 1863/2254 [00:47<00:10, 37.34it/s, loss=0.093, v_num=ld_0]\n",
      "Epoch 2:  83%|████████▎ | 1872/2254 [00:47<00:10, 37.41it/s, loss=0.093, v_num=ld_0]\n",
      "Validating:  16%|█▋        | 75/455 [00:04<00:21, 17.76it/s]\u001b[A\n",
      "Epoch 2:  83%|████████▎ | 1881/2254 [00:47<00:09, 37.49it/s, loss=0.093, v_num=ld_0]\n",
      "Epoch 2:  84%|████████▍ | 1890/2254 [00:47<00:09, 37.56it/s, loss=0.093, v_num=ld_0]\n",
      "Epoch 2:  84%|████████▍ | 1899/2254 [00:47<00:09, 37.63it/s, loss=0.093, v_num=ld_0]\n",
      "Validating:  23%|██▎       | 103/455 [00:04<00:09, 37.60it/s]\u001b[A\n",
      "Epoch 2:  85%|████████▍ | 1908/2254 [00:47<00:09, 37.69it/s, loss=0.093, v_num=ld_0]\n",
      "Epoch 2:  85%|████████▌ | 1917/2254 [00:48<00:08, 37.74it/s, loss=0.093, v_num=ld_0]\n",
      "Validating:  27%|██▋       | 121/455 [00:04<00:07, 47.20it/s]\u001b[A\n",
      "Epoch 2:  85%|████████▌ | 1926/2254 [00:48<00:08, 37.79it/s, loss=0.093, v_num=ld_0]\n",
      "Epoch 2:  86%|████████▌ | 1935/2254 [00:48<00:08, 37.81it/s, loss=0.093, v_num=ld_0]\n",
      "Validating:  31%|███       | 139/455 [00:05<00:06, 46.39it/s]\u001b[A\n",
      "Epoch 2:  86%|████████▌ | 1944/2254 [00:48<00:08, 37.86it/s, loss=0.093, v_num=ld_0]\n",
      "Epoch 2:  87%|████████▋ | 1953/2254 [00:48<00:07, 37.91it/s, loss=0.093, v_num=ld_0]\n",
      "Validating:  35%|███▍      | 157/455 [00:05<00:05, 51.42it/s]\u001b[A\n",
      "Epoch 2:  87%|████████▋ | 1962/2254 [00:49<00:07, 37.97it/s, loss=0.093, v_num=ld_0]\n",
      "Epoch 2:  87%|████████▋ | 1971/2254 [00:49<00:07, 38.03it/s, loss=0.093, v_num=ld_0]\n",
      "Epoch 2:  88%|████████▊ | 1980/2254 [00:49<00:07, 38.11it/s, loss=0.093, v_num=ld_0]\n",
      "Validating:  40%|████      | 183/455 [00:06<00:04, 58.49it/s]\u001b[A\n",
      "Epoch 2:  88%|████████▊ | 1989/2254 [00:49<00:06, 38.18it/s, loss=0.093, v_num=ld_0]\n",
      "Epoch 2:  89%|████████▊ | 1998/2254 [00:49<00:06, 38.23it/s, loss=0.093, v_num=ld_0]\n",
      "Validating:  44%|████▍     | 201/455 [00:06<00:04, 55.43it/s]\u001b[A\n",
      "Epoch 2:  89%|████████▉ | 2007/2254 [00:49<00:06, 38.27it/s, loss=0.093, v_num=ld_0]\n",
      "Epoch 2:  89%|████████▉ | 2016/2254 [00:50<00:06, 38.32it/s, loss=0.093, v_num=ld_0]\n",
      "Validating:  48%|████▊     | 219/455 [00:06<00:04, 52.62it/s]\u001b[A\n",
      "Epoch 2:  90%|████████▉ | 2025/2254 [00:50<00:05, 38.37it/s, loss=0.093, v_num=ld_0]\n",
      "Epoch 2:  90%|█████████ | 2034/2254 [00:50<00:05, 38.41it/s, loss=0.093, v_num=ld_0]\n",
      "Validating:  52%|█████▏    | 237/455 [00:07<00:04, 50.84it/s]\u001b[A\n",
      "Epoch 2:  91%|█████████ | 2043/2254 [00:50<00:05, 38.45it/s, loss=0.093, v_num=ld_0]\n",
      "Epoch 2:  91%|█████████ | 2052/2254 [00:50<00:05, 38.49it/s, loss=0.093, v_num=ld_0]\n",
      "Validating:  56%|█████▌    | 255/455 [00:07<00:03, 50.98it/s]\u001b[A\n",
      "Epoch 2:  91%|█████████▏| 2061/2254 [00:50<00:05, 38.54it/s, loss=0.093, v_num=ld_0]\n",
      "Epoch 2:  92%|█████████▏| 2070/2254 [00:51<00:04, 38.60it/s, loss=0.093, v_num=ld_0]\n",
      "Epoch 2:  92%|█████████▏| 2079/2254 [00:51<00:04, 38.66it/s, loss=0.093, v_num=ld_0]\n",
      "Validating:  62%|██████▏   | 281/455 [00:07<00:03, 56.48it/s]\u001b[A\n",
      "Epoch 2:  93%|█████████▎| 2088/2254 [00:51<00:04, 38.73it/s, loss=0.093, v_num=ld_0]\n",
      "Epoch 2:  93%|█████████▎| 2097/2254 [00:51<00:04, 38.80it/s, loss=0.093, v_num=ld_0]\n",
      "Epoch 2:  93%|█████████▎| 2106/2254 [00:51<00:03, 38.86it/s, loss=0.093, v_num=ld_0]\n",
      "Validating:  68%|██████▊   | 309/455 [00:08<00:02, 58.79it/s]\u001b[A\n",
      "Epoch 2:  94%|█████████▍| 2115/2254 [00:51<00:03, 38.92it/s, loss=0.093, v_num=ld_0]\n",
      "Epoch 2:  94%|█████████▍| 2124/2254 [00:51<00:03, 38.98it/s, loss=0.093, v_num=ld_0]\n",
      "Validating:  72%|███████▏  | 328/455 [00:08<00:02, 58.27it/s]\u001b[A\n",
      "Epoch 2:  95%|█████████▍| 2133/2254 [00:52<00:03, 39.02it/s, loss=0.093, v_num=ld_0]\n",
      "Epoch 2:  95%|█████████▌| 2142/2254 [00:52<00:02, 39.06it/s, loss=0.093, v_num=ld_0]\n",
      "Validating:  76%|███████▌  | 346/455 [00:09<00:02, 53.61it/s]\u001b[A\n",
      "Epoch 2:  95%|█████████▌| 2151/2254 [00:52<00:02, 39.10it/s, loss=0.093, v_num=ld_0]\n",
      "Epoch 2:  96%|█████████▌| 2160/2254 [00:52<00:02, 39.13it/s, loss=0.093, v_num=ld_0]\n",
      "Validating:  80%|████████  | 364/455 [00:09<00:01, 48.38it/s]\u001b[A\n",
      "Epoch 2:  96%|█████████▌| 2169/2254 [00:52<00:02, 39.16it/s, loss=0.093, v_num=ld_0]\n",
      "Epoch 2:  97%|█████████▋| 2178/2254 [00:53<00:01, 39.21it/s, loss=0.093, v_num=ld_0]\n",
      "Validating:  84%|████████▍ | 382/455 [00:09<00:01, 51.98it/s]\u001b[A\n",
      "Epoch 2:  97%|█████████▋| 2187/2254 [00:53<00:01, 39.25it/s, loss=0.093, v_num=ld_0]\n",
      "Epoch 2:  97%|█████████▋| 2196/2254 [00:53<00:01, 39.32it/s, loss=0.093, v_num=ld_0]\n",
      "Epoch 2:  98%|█████████▊| 2205/2254 [00:53<00:01, 39.37it/s, loss=0.093, v_num=ld_0]\n",
      "Validating:  89%|████████▉ | 407/455 [00:10<00:00, 56.94it/s]\u001b[A\n",
      "Epoch 2:  98%|█████████▊| 2214/2254 [00:53<00:01, 39.43it/s, loss=0.093, v_num=ld_0]\n",
      "Epoch 2:  99%|█████████▊| 2223/2254 [00:53<00:00, 39.47it/s, loss=0.093, v_num=ld_0]\n",
      "Validating:  93%|█████████▎| 425/455 [00:10<00:00, 56.35it/s]\u001b[A\n",
      "Epoch 2:  99%|█████████▉| 2232/2254 [00:53<00:00, 39.54it/s, loss=0.093, v_num=ld_0]\n",
      "Epoch 2:  99%|█████████▉| 2241/2254 [00:54<00:00, 39.62it/s, loss=0.093, v_num=ld_0]\n",
      "Epoch 2: 100%|█████████▉| 2250/2254 [00:54<00:00, 39.68it/s, loss=0.093, v_num=ld_0]\n",
      "Epoch 2: 100%|██████████| 2254/2254 [00:54<00:00, 39.49it/s, loss=0.093, v_num=ld_0]\n",
      "Epoch 3:  80%|███████▉  | 1799/2254 [00:46<00:12, 36.90it/s, loss=0.093, v_num=ld_0]\n",
      "Validating: 0it [00:00, ?it/s]\u001b[A\n",
      "Epoch 3:  80%|███████▉  | 1800/2254 [00:48<00:13, 34.90it/s, loss=0.093, v_num=ld_0]\n",
      "Epoch 3:  80%|████████  | 1809/2254 [00:48<00:12, 34.97it/s, loss=0.093, v_num=ld_0]\n",
      "Validating:   3%|▎         | 13/455 [00:02<09:41,  1.32s/it]\u001b[A\n",
      "Epoch 3:  81%|████████  | 1818/2254 [00:49<00:12, 35.03it/s, loss=0.093, v_num=ld_0]\n",
      "Epoch 3:  81%|████████  | 1827/2254 [00:49<00:12, 35.11it/s, loss=0.093, v_num=ld_0]\n",
      "Epoch 3:  81%|████████▏ | 1836/2254 [00:49<00:11, 35.19it/s, loss=0.093, v_num=ld_0]\n",
      "Epoch 3:  82%|████████▏ | 1845/2254 [00:49<00:11, 35.27it/s, loss=0.093, v_num=ld_0]\n",
      "Validating:  10%|█         | 47/455 [00:03<01:35,  4.26it/s]\u001b[A\n",
      "Epoch 3:  82%|████████▏ | 1854/2254 [00:49<00:11, 35.34it/s, loss=0.093, v_num=ld_0]\n",
      "Epoch 3:  83%|████████▎ | 1863/2254 [00:49<00:11, 35.42it/s, loss=0.093, v_num=ld_0]\n",
      "Epoch 3:  83%|████████▎ | 1872/2254 [00:49<00:10, 35.49it/s, loss=0.093, v_num=ld_0]\n",
      "Validating:  16%|█▋        | 74/455 [00:03<00:26, 14.40it/s]\u001b[A\n",
      "Epoch 3:  83%|████████▎ | 1881/2254 [00:50<00:10, 35.56it/s, loss=0.093, v_num=ld_0]\n",
      "Epoch 3:  84%|████████▍ | 1890/2254 [00:50<00:10, 35.63it/s, loss=0.093, v_num=ld_0]\n",
      "Validating:  20%|██        | 92/455 [00:04<00:12, 28.57it/s]\u001b[A\n",
      "Epoch 3:  84%|████████▍ | 1899/2254 [00:50<00:09, 35.71it/s, loss=0.093, v_num=ld_0]\n",
      "Epoch 3:  85%|████████▍ | 1908/2254 [00:50<00:09, 35.80it/s, loss=0.093, v_num=ld_0]\n",
      "Epoch 3:  85%|████████▌ | 1917/2254 [00:50<00:09, 35.88it/s, loss=0.093, v_num=ld_0]\n",
      "Epoch 3:  85%|████████▌ | 1926/2254 [00:50<00:09, 35.96it/s, loss=0.093, v_num=ld_0]\n",
      "Validating:  28%|██▊       | 128/455 [00:04<00:06, 54.11it/s]\u001b[A\n",
      "Epoch 3:  86%|████████▌ | 1935/2254 [00:50<00:08, 36.03it/s, loss=0.093, v_num=ld_0]\n",
      "Epoch 3:  86%|████████▌ | 1944/2254 [00:51<00:08, 36.11it/s, loss=0.093, v_num=ld_0]\n",
      "Epoch 3:  87%|████████▋ | 1953/2254 [00:51<00:08, 36.18it/s, loss=0.093, v_num=ld_0]\n",
      "Validating:  34%|███▍      | 156/455 [00:05<00:04, 60.13it/s]\u001b[A\n",
      "Epoch 3:  87%|████████▋ | 1962/2254 [00:51<00:08, 36.25it/s, loss=0.093, v_num=ld_0]\n",
      "Epoch 3:  87%|████████▋ | 1971/2254 [00:51<00:07, 36.32it/s, loss=0.093, v_num=ld_0]\n",
      "Epoch 3:  88%|████████▊ | 1980/2254 [00:51<00:07, 36.40it/s, loss=0.093, v_num=ld_0]\n",
      "Epoch 3:  88%|████████▊ | 1989/2254 [00:51<00:07, 36.47it/s, loss=0.093, v_num=ld_0]\n",
      "Validating:  42%|████▏     | 191/455 [00:05<00:04, 61.79it/s]\u001b[A\n",
      "Epoch 3:  89%|████████▊ | 1998/2254 [00:51<00:07, 36.55it/s, loss=0.093, v_num=ld_0]\n",
      "Epoch 3:  89%|████████▉ | 2007/2254 [00:52<00:06, 36.62it/s, loss=0.093, v_num=ld_0]\n",
      "Epoch 3:  89%|████████▉ | 2016/2254 [00:52<00:06, 36.71it/s, loss=0.093, v_num=ld_0]\n",
      "Epoch 3:  90%|████████▉ | 2025/2254 [00:52<00:06, 36.80it/s, loss=0.093, v_num=ld_0]\n",
      "Epoch 3:  90%|█████████ | 2034/2254 [00:52<00:05, 36.88it/s, loss=0.093, v_num=ld_0]\n",
      "Validating:  52%|█████▏    | 236/455 [00:06<00:03, 68.23it/s]\u001b[A\n",
      "Epoch 3:  91%|█████████ | 2043/2254 [00:52<00:05, 36.95it/s, loss=0.093, v_num=ld_0]\n",
      "Epoch 3:  91%|█████████ | 2052/2254 [00:52<00:05, 37.02it/s, loss=0.093, v_num=ld_0]\n",
      "Epoch 3:  91%|█████████▏| 2061/2254 [00:52<00:05, 37.09it/s, loss=0.093, v_num=ld_0]\n",
      "Validating:  58%|█████▊    | 264/455 [00:06<00:02, 64.62it/s]\u001b[A\n",
      "Epoch 3:  92%|█████████▏| 2070/2254 [00:53<00:04, 37.16it/s, loss=0.093, v_num=ld_0]\n",
      "Epoch 3:  92%|█████████▏| 2079/2254 [00:53<00:04, 37.23it/s, loss=0.093, v_num=ld_0]\n",
      "Epoch 3:  93%|█████████▎| 2088/2254 [00:53<00:04, 37.29it/s, loss=0.093, v_num=ld_0]\n",
      "Epoch 3:  93%|█████████▎| 2097/2254 [00:53<00:04, 37.36it/s, loss=0.093, v_num=ld_0]\n",
      "Validating:  66%|██████▌   | 299/455 [00:07<00:02, 61.62it/s]\u001b[A\n",
      "Epoch 3:  93%|█████████▎| 2106/2254 [00:53<00:03, 37.43it/s, loss=0.093, v_num=ld_0]\n",
      "Epoch 3:  94%|█████████▍| 2115/2254 [00:53<00:03, 37.49it/s, loss=0.093, v_num=ld_0]\n",
      "Epoch 3:  94%|█████████▍| 2124/2254 [00:53<00:03, 37.56it/s, loss=0.093, v_num=ld_0]\n",
      "Validating:  72%|███████▏  | 327/455 [00:07<00:02, 62.62it/s]\u001b[A\n",
      "Epoch 3:  95%|█████████▍| 2133/2254 [00:54<00:03, 37.63it/s, loss=0.093, v_num=ld_0]\n",
      "Epoch 3:  95%|█████████▌| 2142/2254 [00:54<00:02, 37.71it/s, loss=0.093, v_num=ld_0]\n",
      "Epoch 3:  95%|█████████▌| 2151/2254 [00:54<00:02, 37.80it/s, loss=0.093, v_num=ld_0]\n",
      "Epoch 3:  96%|█████████▌| 2160/2254 [00:54<00:02, 37.89it/s, loss=0.093, v_num=ld_0]\n",
      "Epoch 3:  96%|█████████▌| 2169/2254 [00:54<00:02, 37.95it/s, loss=0.093, v_num=ld_0]\n",
      "Epoch 3:  97%|█████████▋| 2178/2254 [00:54<00:02, 37.99it/s, loss=0.093, v_num=ld_0]\n",
      "Validating:  84%|████████▎ | 381/455 [00:08<00:01, 60.87it/s]\u001b[A\n",
      "Epoch 3:  97%|█████████▋| 2187/2254 [00:54<00:01, 38.05it/s, loss=0.093, v_num=ld_0]\n",
      "Epoch 3:  97%|█████████▋| 2196/2254 [00:55<00:01, 38.10it/s, loss=0.093, v_num=ld_0]\n",
      "Epoch 3:  98%|█████████▊| 2205/2254 [00:55<00:01, 38.17it/s, loss=0.093, v_num=ld_0]\n",
      "Epoch 3:  98%|█████████▊| 2214/2254 [00:55<00:01, 38.23it/s, loss=0.093, v_num=ld_0]\n",
      "Validating:  91%|█████████▏| 416/455 [00:09<00:00, 59.05it/s]\u001b[A\n",
      "Epoch 3:  99%|█████████▊| 2223/2254 [00:55<00:00, 38.28it/s, loss=0.093, v_num=ld_0]\n",
      "Epoch 3:  99%|█████████▉| 2232/2254 [00:55<00:00, 38.36it/s, loss=0.093, v_num=ld_0]\n",
      "Epoch 3:  99%|█████████▉| 2241/2254 [00:55<00:00, 38.44it/s, loss=0.093, v_num=ld_0]\n",
      "Epoch 3: 100%|█████████▉| 2250/2254 [00:55<00:00, 38.51it/s, loss=0.093, v_num=ld_0]\n",
      "Epoch 3: 100%|██████████| 2254/2254 [00:56<00:00, 38.35it/s, loss=0.093, v_num=ld_0]\n",
      "Epoch 4:  80%|███████▉  | 1799/2254 [00:46<00:12, 36.89it/s, loss=0.093, v_num=ld_0]\n",
      "Validating: 0it [00:00, ?it/s]\u001b[A\n",
      "Epoch 4:  80%|███████▉  | 1800/2254 [00:48<00:13, 34.89it/s, loss=0.093, v_num=ld_0]\n",
      "Epoch 4:  80%|████████  | 1809/2254 [00:48<00:12, 34.96it/s, loss=0.093, v_num=ld_0]\n",
      "Epoch 4:  81%|████████  | 1818/2254 [00:49<00:12, 35.05it/s, loss=0.093, v_num=ld_0]\n",
      "Epoch 4:  81%|████████  | 1827/2254 [00:49<00:12, 35.14it/s, loss=0.093, v_num=ld_0]\n",
      "Validating:   7%|▋         | 30/455 [00:03<04:36,  1.54it/s]\u001b[A\n",
      "Epoch 4:  81%|████████▏ | 1836/2254 [00:49<00:11, 35.23it/s, loss=0.093, v_num=ld_0]\n",
      "Epoch 4:  82%|████████▏ | 1845/2254 [00:49<00:11, 35.31it/s, loss=0.093, v_num=ld_0]\n",
      "Epoch 4:  82%|████████▏ | 1854/2254 [00:49<00:11, 35.40it/s, loss=0.093, v_num=ld_0]\n",
      "Epoch 4:  83%|████████▎ | 1863/2254 [00:49<00:11, 35.48it/s, loss=0.093, v_num=ld_0]\n",
      "Validating:  14%|█▍        | 65/455 [00:03<00:47,  8.20it/s]\u001b[A\n",
      "Epoch 4:  83%|████████▎ | 1872/2254 [00:49<00:10, 35.56it/s, loss=0.093, v_num=ld_0]\n",
      "Epoch 4:  83%|████████▎ | 1881/2254 [00:49<00:10, 35.64it/s, loss=0.093, v_num=ld_0]\n",
      "Epoch 4:  84%|████████▍ | 1890/2254 [00:50<00:10, 35.73it/s, loss=0.093, v_num=ld_0]\n",
      "Epoch 4:  84%|████████▍ | 1899/2254 [00:50<00:09, 35.81it/s, loss=0.093, v_num=ld_0]\n",
      "Validating:  22%|██▏       | 101/455 [00:04<00:11, 30.47it/s]\u001b[A\n",
      "Epoch 4:  85%|████████▍ | 1908/2254 [00:50<00:09, 35.90it/s, loss=0.093, v_num=ld_0]\n",
      "Epoch 4:  85%|████████▌ | 1917/2254 [00:50<00:09, 35.98it/s, loss=0.093, v_num=ld_0]\n",
      "Epoch 4:  85%|████████▌ | 1926/2254 [00:50<00:09, 36.07it/s, loss=0.093, v_num=ld_0]\n",
      "Epoch 4:  86%|████████▌ | 1935/2254 [00:50<00:08, 36.14it/s, loss=0.093, v_num=ld_0]\n",
      "Validating:  30%|███       | 137/455 [00:04<00:05, 54.80it/s]\u001b[A\n",
      "Epoch 4:  86%|████████▌ | 1944/2254 [00:50<00:08, 36.22it/s, loss=0.093, v_num=ld_0]\n",
      "Epoch 4:  87%|████████▋ | 1953/2254 [00:51<00:08, 36.30it/s, loss=0.093, v_num=ld_0]\n",
      "Epoch 4:  87%|████████▋ | 1962/2254 [00:51<00:08, 36.37it/s, loss=0.093, v_num=ld_0]\n",
      "Validating:  36%|███▋      | 165/455 [00:05<00:04, 60.26it/s]\u001b[A\n",
      "Epoch 4:  87%|████████▋ | 1971/2254 [00:51<00:07, 36.45it/s, loss=0.093, v_num=ld_0]\n",
      "Epoch 4:  88%|████████▊ | 1980/2254 [00:51<00:07, 36.52it/s, loss=0.093, v_num=ld_0]\n",
      "Epoch 4:  88%|████████▊ | 1989/2254 [00:51<00:07, 36.61it/s, loss=0.093, v_num=ld_0]\n",
      "Epoch 4:  89%|████████▊ | 1998/2254 [00:51<00:06, 36.68it/s, loss=0.093, v_num=ld_0]\n",
      "Validating:  44%|████▍     | 200/455 [00:05<00:03, 63.84it/s]\u001b[A\n",
      "Epoch 4:  89%|████████▉ | 2007/2254 [00:51<00:06, 36.76it/s, loss=0.093, v_num=ld_0]\n",
      "Epoch 4:  89%|████████▉ | 2016/2254 [00:52<00:06, 36.84it/s, loss=0.093, v_num=ld_0]\n",
      "Epoch 4:  90%|████████▉ | 2025/2254 [00:52<00:06, 36.92it/s, loss=0.093, v_num=ld_0]\n",
      "Epoch 4:  90%|█████████ | 2034/2254 [00:52<00:05, 37.00it/s, loss=0.093, v_num=ld_0]\n",
      "Epoch 4:  91%|█████████ | 2043/2254 [00:52<00:05, 37.08it/s, loss=0.093, v_num=ld_0]\n",
      "Validating:  54%|█████▍    | 245/455 [00:06<00:03, 68.39it/s]\u001b[A\n",
      "Epoch 4:  91%|█████████ | 2052/2254 [00:52<00:05, 37.16it/s, loss=0.093, v_num=ld_0]\n",
      "Epoch 4:  91%|█████████▏| 2061/2254 [00:52<00:05, 37.24it/s, loss=0.093, v_num=ld_0]\n",
      "Epoch 4:  92%|█████████▏| 2070/2254 [00:52<00:04, 37.32it/s, loss=0.093, v_num=ld_0]\n",
      "Epoch 4:  92%|█████████▏| 2079/2254 [00:52<00:04, 37.39it/s, loss=0.093, v_num=ld_0]\n",
      "Epoch 4:  93%|█████████▎| 2088/2254 [00:53<00:04, 37.47it/s, loss=0.093, v_num=ld_0]\n",
      "Epoch 4:  93%|█████████▎| 2097/2254 [00:53<00:04, 37.55it/s, loss=0.093, v_num=ld_0]\n",
      "Validating:  66%|██████▌   | 299/455 [00:07<00:02, 68.86it/s]\u001b[A\n",
      "Epoch 4:  93%|█████████▎| 2106/2254 [00:53<00:03, 37.62it/s, loss=0.093, v_num=ld_0]\n",
      "Epoch 4:  94%|█████████▍| 2115/2254 [00:53<00:03, 37.70it/s, loss=0.093, v_num=ld_0]\n",
      "Epoch 4:  94%|█████████▍| 2124/2254 [00:53<00:03, 37.78it/s, loss=0.093, v_num=ld_0]\n",
      "Epoch 4:  95%|█████████▍| 2133/2254 [00:53<00:03, 37.85it/s, loss=0.093, v_num=ld_0]\n",
      "Validating:  74%|███████▎  | 335/455 [00:07<00:01, 67.05it/s]\u001b[A\n",
      "Epoch 4:  95%|█████████▌| 2142/2254 [00:53<00:02, 37.91it/s, loss=0.093, v_num=ld_0]\n",
      "Epoch 4:  95%|█████████▌| 2151/2254 [00:54<00:02, 37.98it/s, loss=0.093, v_num=ld_0]\n",
      "Epoch 4:  96%|█████████▌| 2160/2254 [00:54<00:02, 38.05it/s, loss=0.093, v_num=ld_0]\n",
      "Validating:  80%|███████▉  | 363/455 [00:08<00:01, 64.73it/s]\u001b[A\n",
      "Epoch 4:  96%|█████████▌| 2169/2254 [00:54<00:02, 38.12it/s, loss=0.093, v_num=ld_0]\n",
      "Epoch 4:  97%|█████████▋| 2178/2254 [00:54<00:01, 38.19it/s, loss=0.093, v_num=ld_0]\n",
      "Epoch 4:  97%|█████████▋| 2187/2254 [00:54<00:01, 38.25it/s, loss=0.093, v_num=ld_0]\n",
      "Epoch 4:  97%|█████████▋| 2196/2254 [00:54<00:01, 38.32it/s, loss=0.093, v_num=ld_0]\n",
      "Validating:  87%|████████▋ | 398/455 [00:08<00:00, 64.14it/s]\u001b[A\n",
      "Epoch 4:  98%|█████████▊| 2205/2254 [00:54<00:01, 38.38it/s, loss=0.093, v_num=ld_0]\n",
      "Epoch 4:  98%|█████████▊| 2214/2254 [00:55<00:01, 38.44it/s, loss=0.093, v_num=ld_0]\n",
      "Epoch 4:  99%|█████████▊| 2223/2254 [00:55<00:00, 38.51it/s, loss=0.093, v_num=ld_0]\n",
      "Epoch 4:  99%|█████████▉| 2232/2254 [00:55<00:00, 38.60it/s, loss=0.093, v_num=ld_0]\n",
      "Epoch 4:  99%|█████████▉| 2241/2254 [00:55<00:00, 38.69it/s, loss=0.093, v_num=ld_0]\n",
      "Epoch 4: 100%|█████████▉| 2250/2254 [00:55<00:00, 38.77it/s, loss=0.093, v_num=ld_0]\n",
      "Epoch 4: 100%|██████████| 2254/2254 [00:55<00:00, 38.60it/s, loss=0.093, v_num=ld_0]\n",
      "Epoch 5:  39%|███▉      | 882/2254 [00:22<00:38, 35.43it/s, loss=0.093, v_num=ld_0]Completed fold 0 in 0:06:02.066099\n",
      "/done\n"
     ]
    },
    {
     "name": "stderr",
     "output_type": "stream",
     "text": [
      "/srv/home/wconnell/anaconda3/envs/lightning/lib/python3.8/site-packages/pytorch_lightning/utilities/distributed.py:37: UserWarning: Detected KeyboardInterrupt, attempting graceful shutdown...\n",
      "  warnings.warn(*args, **kwargs)\n"
     ]
    }
   ],
   "source": [
    "cv(name, exp, gpus, nfolds, dataset, input_cols, cond_cols, batch_size=256)"
   ]
  },
  {
   "cell_type": "code",
   "execution_count": 9,
   "metadata": {},
   "outputs": [
    {
     "data": {
      "text/plain": [
       "tensor([[ -5.2721,  -5.0805,   1.7124,  ...,  -5.4074,   1.7200, -13.4092],\n",
       "        [ -0.8518,   0.4557,  -1.1743,  ...,   0.7598,   1.3746,  -2.2434],\n",
       "        [ -1.5418,   1.0390,  -1.1317,  ...,   1.3517,   2.7206,  -1.4814],\n",
       "        ...,\n",
       "        [ -1.4564,   1.6760,   0.2275,  ...,   1.7220,   1.8293,  -1.2928],\n",
       "        [ -2.3295,  -1.4681,  -0.4503,  ...,  -2.5142,   2.1346,  -8.3439],\n",
       "        [ -2.1074,  -1.6664,   0.6190,  ...,  -1.4646,   1.0616,  -6.0193]],\n",
       "       grad_fn=<AddmmBackward>)"
      ]
     },
     "execution_count": 9,
     "metadata": {},
     "output_type": "execute_result"
    }
   ],
   "source": [
    "foo = torch.FloatTensor(val[cond_cols].to_numpy())\n",
    "model.forward(foo)"
   ]
  },
  {
   "cell_type": "code",
   "execution_count": 26,
   "metadata": {},
   "outputs": [
    {
     "data": {
      "text/plain": [
       "(57676, 1502)"
      ]
     },
     "execution_count": 26,
     "metadata": {},
     "output_type": "execute_result"
    }
   ],
   "source": [
    "data.shape"
   ]
  },
  {
   "cell_type": "code",
   "execution_count": 28,
   "metadata": {},
   "outputs": [
    {
     "data": {
      "text/plain": [
       "(11474, 1502)"
      ]
     },
     "execution_count": 28,
     "metadata": {},
     "output_type": "execute_result"
    }
   ],
   "source": [
    "data[data['fold']==0].shape"
   ]
  },
  {
   "cell_type": "code",
   "execution_count": 29,
   "metadata": {},
   "outputs": [
    {
     "data": {
      "text/plain": [
       "22.41015625"
      ]
     },
     "execution_count": 29,
     "metadata": {},
     "output_type": "execute_result"
    }
   ],
   "source": [
    "11474 / 512"
   ]
  },
  {
   "cell_type": "code",
   "execution_count": null,
   "metadata": {},
   "outputs": [],
   "source": []
  }
 ],
 "metadata": {
  "kernelspec": {
   "display_name": "Python [conda env:lightning]",
   "language": "python",
   "name": "conda-env-lightning-py"
  },
  "language_info": {
   "codemirror_mode": {
    "name": "ipython",
    "version": 3
   },
   "file_extension": ".py",
   "mimetype": "text/x-python",
   "name": "python",
   "nbconvert_exporter": "python",
   "pygments_lexer": "ipython3",
   "version": "3.8.5"
  }
 },
 "nbformat": 4,
 "nbformat_minor": 2
}
