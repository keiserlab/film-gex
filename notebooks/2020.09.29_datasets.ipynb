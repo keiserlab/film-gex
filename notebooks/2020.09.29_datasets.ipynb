{
 "cells": [
  {
   "cell_type": "code",
   "execution_count": 1,
   "metadata": {},
   "outputs": [],
   "source": [
    "%load_ext autoreload\n",
    "%autoreload 2"
   ]
  },
  {
   "cell_type": "code",
   "execution_count": 1,
   "metadata": {},
   "outputs": [],
   "source": [
    "import os\n",
    "import torch\n",
    "from torch import nn\n",
    "import torch.nn.functional as F\n",
    "from torch.utils.data import DataLoader\n",
    "from torchvision import transforms\n",
    "import pytorch_lightning as pl\n",
    "\n",
    "import pandas as pd\n",
    "import numpy as np\n",
    "import joblib\n",
    "from pathlib import Path\n",
    "\n",
    "from sklearn.preprocessing import StandardScaler\n",
    "from sklearn import model_selection"
   ]
  },
  {
   "cell_type": "markdown",
   "metadata": {},
   "source": [
    "# break"
   ]
  },
  {
   "cell_type": "code",
   "execution_count": null,
   "metadata": {},
   "outputs": [],
   "source": [
    "class Dataset(torch.utils.data.Dataset):\n",
    "    def __init__(self, data, input_cols, cond_cols, target):\n",
    "        self.inputs = torch.FloatTensor(data[input_cols].to_numpy())\n",
    "        self.conds = torch.FloatTensor(dadta[cond_cols].to_numpy())\n",
    "        self.target = torch.FloatTensor(data[target].to_numpy())\n",
    "    \n",
    "    def __getitem__(self, i):\n",
    "        return self.inputs[i], self.conds[i], self.target[i]\n",
    "\n",
    "    def __len__(self):\n",
    "        return len(self.target)"
   ]
  },
  {
   "cell_type": "code",
   "execution_count": 40,
   "metadata": {},
   "outputs": [],
   "source": [
    "class CTRPDataModule(pl.LightningDataModule):\n",
    "\n",
    "    def __init__(self, train, val, fold, input_cols, cond_cols, target, batch_size=32):\n",
    "        super().__init__()\n",
    "        self.train = train\n",
    "        self.val = val\n",
    "        self.fold = fold\n",
    "        self.input_cols = input_cols\n",
    "        self.cond_cols = cond_cols\n",
    "        self.target = target\n",
    "        self.batch_size = batch_size\n",
    "\n",
    "    # When doing distributed training, Datamodules have two optional arguments for\n",
    "    # granular control over download/prepare/splitting data:\n",
    "    def prepare_data(self):\n",
    "        pass\n",
    "\n",
    "    # OPTIONAL, called for every GPU/machine (assigning state is OK)\n",
    "    def setup(self, stage):\n",
    "        # transformations\n",
    "        self.scaler = StandardScaler()\n",
    "        self.train[self.input_cols] = self.scaler.fit_transform(self.train[self.input_cols])\n",
    "        self.val[self.input_cols] = self.scaler.transform(self.val[self.input_cols])\n",
    "        \n",
    "        if stage == 'fit':\n",
    "            self.train_dataset = Dataset(self.train, self.input_cols, self.cond_cols, self.target)\n",
    "            self.val_dataset = Dataset(self.val, self.input_cols, self.cond_cols, self.target)\n",
    "            return self.train_dataset, self.val_dataset\n",
    "        if stage == 'test':\n",
    "            self.test_dataset = Dataset(self.test, self.input_cols, self.cond_cols, self.target)\n",
    "            return self.test_dataset\n",
    "\n",
    "    # return the dataloader for each split\n",
    "    def train_dataloader(self):\n",
    "        return DataLoader(self.train_dataset, batch_size=self.batch_size, num_workers=8, pin_memory=True)\n",
    "\n",
    "    def val_dataloader(self):\n",
    "        return DataLoader(self.val_dataset, batch_size=self.batch_size)\n",
    "\n",
    "    def test_dataloader(self):\n",
    "        return DataLoader(self.test_dataset, batch_size=self.batch_size)"
   ]
  },
  {
   "cell_type": "code",
   "execution_count": 1,
   "metadata": {},
   "outputs": [],
   "source": [
    "def prepare(exp, subset=True):\n",
    "    data_path = Path(\"../../film-gex-data/processed/\")\n",
    "    input_cols = joblib.load(data_path.joinpath(\"gene_cols.pkl\"))\n",
    "    \n",
    "    if exp=='id':\n",
    "        cpd_id = \"master_cpd_id\"\n",
    "        cond_cols = np.array([cpd_id, 'cpd_conc_umol'])\n",
    "    else:\n",
    "        fp_cols = joblib.load(data_path.joinpath(\"fp_cols.pkl\"))\n",
    "        cond_cols = np.append(fp_cols, ['cpd_conc_umol'])\n",
    "        \n",
    "    if subset:\n",
    "        dataset = ds.dataset(data_path.joinpath(\"train_sub.feather\"), format='feather')\n",
    "    else:\n",
    "        dataset = ds.dataset(data_path.joinpath(\"train.feather\"), format='feather')\n",
    "\n",
    "    return dataset, input_cols, cond_cols"
   ]
  },
  {
   "cell_type": "code",
   "execution_count": 2,
   "metadata": {},
   "outputs": [
    {
     "name": "stderr",
     "output_type": "stream",
     "text": [
      "/srv/home/wconnell/anaconda3/envs/lightning/lib/python3.8/site-packages/numpy/lib/arraysetops.py:580: FutureWarning: elementwise comparison failed; returning scalar instead, but in the future will perform elementwise comparison\n",
      "  mask |= (ar1 == a)\n"
     ]
    }
   ],
   "source": [
    "## Read data\n",
    "# Paths\n",
    "ds_path = Path(\"../../film-gex-data/drug_screens/\")\n",
    "cm_path = Path(\"../../film-gex-data/cellular_models/\")\n",
    "out_path = Path(\"../../film-gex-data/processed/\")\n",
    "# CCLE\n",
    "meta_ccle = pd.read_csv(cm_path.joinpath(\"sample_info.csv\"))\n",
    "ccle = pd.read_csv(cm_path.joinpath(\"CCLE_expression.csv\"), index_col=0)\n",
    "# L1000 genes\n",
    "genes = pd.read_csv(cm_path.joinpath(\"GSE70138_Broad_LINCS_gene_info_2017-03-06.txt.gz\"), sep=\"\\t\", index_col=0)\n",
    "# CTRP\n",
    "cp_ctrp = pd.read_csv(ds_path.joinpath(\"CTRP/v20.meta.per_compound.txt\"), sep=\"\\t\", index_col=0)\n",
    "cl_ctrp = pd.read_csv(ds_path.joinpath(\"CTRP/v20.meta.per_cell_line.txt\"), sep=\"\\t\", index_col=0)\n",
    "exp_ctrp = pd.read_csv(ds_path.joinpath(\"CTRP/v20.meta.per_experiment.txt\"), sep=\"\\t\", index_col=0)\n",
    "ctrp = pd.read_csv(ds_path.joinpath(\"CTRP/v20.data.per_cpd_post_qc.txt\") ,sep='\\t', index_col=0)"
   ]
  },
  {
   "cell_type": "code",
   "execution_count": 3,
   "metadata": {},
   "outputs": [
    {
     "data": {
      "text/html": [
       "<div>\n",
       "<style scoped>\n",
       "    .dataframe tbody tr th:only-of-type {\n",
       "        vertical-align: middle;\n",
       "    }\n",
       "\n",
       "    .dataframe tbody tr th {\n",
       "        vertical-align: top;\n",
       "    }\n",
       "\n",
       "    .dataframe thead th {\n",
       "        text-align: right;\n",
       "    }\n",
       "</style>\n",
       "<table border=\"1\" class=\"dataframe\">\n",
       "  <thead>\n",
       "    <tr style=\"text-align: right;\">\n",
       "      <th></th>\n",
       "      <th>run_id</th>\n",
       "      <th>experiment_date</th>\n",
       "      <th>culture_media</th>\n",
       "      <th>baseline_signal</th>\n",
       "      <th>cells_per_well</th>\n",
       "      <th>growth_mode</th>\n",
       "      <th>snp_fp_status</th>\n",
       "      <th>master_ccl_id</th>\n",
       "    </tr>\n",
       "    <tr>\n",
       "      <th>experiment_id</th>\n",
       "      <th></th>\n",
       "      <th></th>\n",
       "      <th></th>\n",
       "      <th></th>\n",
       "      <th></th>\n",
       "      <th></th>\n",
       "      <th></th>\n",
       "      <th></th>\n",
       "    </tr>\n",
       "  </thead>\n",
       "  <tbody>\n",
       "    <tr>\n",
       "      <th>1</th>\n",
       "      <td>7024-01-A01-02-01</td>\n",
       "      <td>20120501</td>\n",
       "      <td>DMEM001</td>\n",
       "      <td>0.2225</td>\n",
       "      <td>500</td>\n",
       "      <td>adherent</td>\n",
       "      <td>SNP-matched-reference</td>\n",
       "      <td>130</td>\n",
       "    </tr>\n",
       "    <tr>\n",
       "      <th>2</th>\n",
       "      <td>7024-01-A01-02-01</td>\n",
       "      <td>20120501</td>\n",
       "      <td>DMEM001</td>\n",
       "      <td>0.2225</td>\n",
       "      <td>500</td>\n",
       "      <td>adherent</td>\n",
       "      <td>SNP-matched-reference</td>\n",
       "      <td>569</td>\n",
       "    </tr>\n",
       "    <tr>\n",
       "      <th>3</th>\n",
       "      <td>7024-01-A01-02-01</td>\n",
       "      <td>20120501</td>\n",
       "      <td>RPMI001</td>\n",
       "      <td>0.1195</td>\n",
       "      <td>500</td>\n",
       "      <td>adherent</td>\n",
       "      <td>SNP-matched-reference</td>\n",
       "      <td>682</td>\n",
       "    </tr>\n",
       "    <tr>\n",
       "      <th>4</th>\n",
       "      <td>7024-01-A01-02-02</td>\n",
       "      <td>20120504</td>\n",
       "      <td>DMEM001</td>\n",
       "      <td>0.2225</td>\n",
       "      <td>500</td>\n",
       "      <td>adherent</td>\n",
       "      <td>SNP-unconfirmed</td>\n",
       "      <td>9</td>\n",
       "    </tr>\n",
       "    <tr>\n",
       "      <th>5</th>\n",
       "      <td>7024-01-A01-02-02</td>\n",
       "      <td>20120504</td>\n",
       "      <td>DMEM001</td>\n",
       "      <td>0.2225</td>\n",
       "      <td>500</td>\n",
       "      <td>adherent</td>\n",
       "      <td>SNP-matched-reference</td>\n",
       "      <td>61</td>\n",
       "    </tr>\n",
       "  </tbody>\n",
       "</table>\n",
       "</div>"
      ],
      "text/plain": [
       "                          run_id  experiment_date culture_media  \\\n",
       "experiment_id                                                     \n",
       "1              7024-01-A01-02-01         20120501       DMEM001   \n",
       "2              7024-01-A01-02-01         20120501       DMEM001   \n",
       "3              7024-01-A01-02-01         20120501       RPMI001   \n",
       "4              7024-01-A01-02-02         20120504       DMEM001   \n",
       "5              7024-01-A01-02-02         20120504       DMEM001   \n",
       "\n",
       "               baseline_signal  cells_per_well growth_mode  \\\n",
       "experiment_id                                                \n",
       "1                       0.2225             500    adherent   \n",
       "2                       0.2225             500    adherent   \n",
       "3                       0.1195             500    adherent   \n",
       "4                       0.2225             500    adherent   \n",
       "5                       0.2225             500    adherent   \n",
       "\n",
       "                       snp_fp_status  master_ccl_id  \n",
       "experiment_id                                        \n",
       "1              SNP-matched-reference            130  \n",
       "2              SNP-matched-reference            569  \n",
       "3              SNP-matched-reference            682  \n",
       "4                    SNP-unconfirmed              9  \n",
       "5              SNP-matched-reference             61  "
      ]
     },
     "execution_count": 3,
     "metadata": {},
     "output_type": "execute_result"
    }
   ],
   "source": [
    "exp_ctrp.head()"
   ]
  },
  {
   "cell_type": "code",
   "execution_count": 5,
   "metadata": {},
   "outputs": [
    {
     "data": {
      "text/html": [
       "<div>\n",
       "<style scoped>\n",
       "    .dataframe tbody tr th:only-of-type {\n",
       "        vertical-align: middle;\n",
       "    }\n",
       "\n",
       "    .dataframe tbody tr th {\n",
       "        vertical-align: top;\n",
       "    }\n",
       "\n",
       "    .dataframe thead th {\n",
       "        text-align: right;\n",
       "    }\n",
       "</style>\n",
       "<table border=\"1\" class=\"dataframe\">\n",
       "  <thead>\n",
       "    <tr style=\"text-align: right;\">\n",
       "      <th></th>\n",
       "      <th>ccl_name</th>\n",
       "      <th>ccl_availability</th>\n",
       "      <th>ccle_primary_site</th>\n",
       "      <th>ccle_primary_hist</th>\n",
       "      <th>ccle_hist_subtype_1</th>\n",
       "    </tr>\n",
       "    <tr>\n",
       "      <th>master_ccl_id</th>\n",
       "      <th></th>\n",
       "      <th></th>\n",
       "      <th></th>\n",
       "      <th></th>\n",
       "      <th></th>\n",
       "    </tr>\n",
       "  </thead>\n",
       "  <tbody>\n",
       "    <tr>\n",
       "      <th>1</th>\n",
       "      <td>697</td>\n",
       "      <td>ccle;public</td>\n",
       "      <td>haematopoietic_and_lymphoid_tissue</td>\n",
       "      <td>lymphoid_neoplasm</td>\n",
       "      <td>acute_lymphoblastic_B_cell_leukaemia</td>\n",
       "    </tr>\n",
       "    <tr>\n",
       "      <th>3</th>\n",
       "      <td>5637</td>\n",
       "      <td>ccle;public</td>\n",
       "      <td>urinary_tract</td>\n",
       "      <td>carcinoma</td>\n",
       "      <td>NaN</td>\n",
       "    </tr>\n",
       "    <tr>\n",
       "      <th>4</th>\n",
       "      <td>2313287</td>\n",
       "      <td>ccle;public</td>\n",
       "      <td>stomach</td>\n",
       "      <td>carcinoma</td>\n",
       "      <td>adenocarcinoma</td>\n",
       "    </tr>\n",
       "    <tr>\n",
       "      <th>5</th>\n",
       "      <td>1321N1</td>\n",
       "      <td>ccle</td>\n",
       "      <td>central_nervous_system</td>\n",
       "      <td>glioma</td>\n",
       "      <td>astrocytoma</td>\n",
       "    </tr>\n",
       "    <tr>\n",
       "      <th>6</th>\n",
       "      <td>143B</td>\n",
       "      <td>ccle</td>\n",
       "      <td>bone</td>\n",
       "      <td>osteosarcoma</td>\n",
       "      <td>NaN</td>\n",
       "    </tr>\n",
       "  </tbody>\n",
       "</table>\n",
       "</div>"
      ],
      "text/plain": [
       "              ccl_name ccl_availability                   ccle_primary_site  \\\n",
       "master_ccl_id                                                                 \n",
       "1                  697      ccle;public  haematopoietic_and_lymphoid_tissue   \n",
       "3                 5637      ccle;public                       urinary_tract   \n",
       "4              2313287      ccle;public                             stomach   \n",
       "5               1321N1             ccle              central_nervous_system   \n",
       "6                 143B             ccle                                bone   \n",
       "\n",
       "               ccle_primary_hist                   ccle_hist_subtype_1  \n",
       "master_ccl_id                                                           \n",
       "1              lymphoid_neoplasm  acute_lymphoblastic_B_cell_leukaemia  \n",
       "3                      carcinoma                                   NaN  \n",
       "4                      carcinoma                        adenocarcinoma  \n",
       "5                         glioma                           astrocytoma  \n",
       "6                   osteosarcoma                                   NaN  "
      ]
     },
     "execution_count": 5,
     "metadata": {},
     "output_type": "execute_result"
    }
   ],
   "source": [
    "cl_ctrp.head()"
   ]
  },
  {
   "cell_type": "code",
   "execution_count": 6,
   "metadata": {},
   "outputs": [
    {
     "data": {
      "text/html": [
       "<div>\n",
       "<style scoped>\n",
       "    .dataframe tbody tr th:only-of-type {\n",
       "        vertical-align: middle;\n",
       "    }\n",
       "\n",
       "    .dataframe tbody tr th {\n",
       "        vertical-align: top;\n",
       "    }\n",
       "\n",
       "    .dataframe thead th {\n",
       "        text-align: right;\n",
       "    }\n",
       "</style>\n",
       "<table border=\"1\" class=\"dataframe\">\n",
       "  <thead>\n",
       "    <tr style=\"text-align: right;\">\n",
       "      <th></th>\n",
       "      <th>cpd_pv_errorbar</th>\n",
       "      <th>cpd_pred_pv</th>\n",
       "      <th>cpd_avg_pv</th>\n",
       "      <th>cpd_conc_umol</th>\n",
       "      <th>master_cpd_id</th>\n",
       "    </tr>\n",
       "    <tr>\n",
       "      <th>experiment_id</th>\n",
       "      <th></th>\n",
       "      <th></th>\n",
       "      <th></th>\n",
       "      <th></th>\n",
       "      <th></th>\n",
       "    </tr>\n",
       "  </thead>\n",
       "  <tbody>\n",
       "    <tr>\n",
       "      <th>1</th>\n",
       "      <td>0.000058</td>\n",
       "      <td>1.0</td>\n",
       "      <td>0.9303</td>\n",
       "      <td>0.00030</td>\n",
       "      <td>1788</td>\n",
       "    </tr>\n",
       "    <tr>\n",
       "      <th>1</th>\n",
       "      <td>0.000058</td>\n",
       "      <td>1.0</td>\n",
       "      <td>0.8337</td>\n",
       "      <td>0.00061</td>\n",
       "      <td>1788</td>\n",
       "    </tr>\n",
       "    <tr>\n",
       "      <th>1</th>\n",
       "      <td>0.000058</td>\n",
       "      <td>1.0</td>\n",
       "      <td>1.0460</td>\n",
       "      <td>0.00120</td>\n",
       "      <td>1788</td>\n",
       "    </tr>\n",
       "    <tr>\n",
       "      <th>1</th>\n",
       "      <td>0.000058</td>\n",
       "      <td>1.0</td>\n",
       "      <td>1.0910</td>\n",
       "      <td>0.00240</td>\n",
       "      <td>1788</td>\n",
       "    </tr>\n",
       "    <tr>\n",
       "      <th>1</th>\n",
       "      <td>0.000058</td>\n",
       "      <td>1.0</td>\n",
       "      <td>1.0190</td>\n",
       "      <td>0.00490</td>\n",
       "      <td>1788</td>\n",
       "    </tr>\n",
       "  </tbody>\n",
       "</table>\n",
       "</div>"
      ],
      "text/plain": [
       "               cpd_pv_errorbar  cpd_pred_pv  cpd_avg_pv  cpd_conc_umol  \\\n",
       "experiment_id                                                            \n",
       "1                     0.000058          1.0      0.9303        0.00030   \n",
       "1                     0.000058          1.0      0.8337        0.00061   \n",
       "1                     0.000058          1.0      1.0460        0.00120   \n",
       "1                     0.000058          1.0      1.0910        0.00240   \n",
       "1                     0.000058          1.0      1.0190        0.00490   \n",
       "\n",
       "               master_cpd_id  \n",
       "experiment_id                 \n",
       "1                       1788  \n",
       "1                       1788  \n",
       "1                       1788  \n",
       "1                       1788  \n",
       "1                       1788  "
      ]
     },
     "execution_count": 6,
     "metadata": {},
     "output_type": "execute_result"
    }
   ],
   "source": [
    "ctrp.head()"
   ]
  },
  {
   "cell_type": "code",
   "execution_count": 7,
   "metadata": {},
   "outputs": [],
   "source": [
    "from scipy.integrate import simps"
   ]
  },
  {
   "cell_type": "code",
   "execution_count": 8,
   "metadata": {},
   "outputs": [],
   "source": [
    "test = ctrp[(ctrp.index==1) & (ctrp['master_cpd_id']==1788)]"
   ]
  },
  {
   "cell_type": "code",
   "execution_count": 14,
   "metadata": {},
   "outputs": [
    {
     "data": {
      "text/plain": [
       "7.8520437916666666"
      ]
     },
     "execution_count": 14,
     "metadata": {},
     "output_type": "execute_result"
    }
   ],
   "source": [
    "simps(y=test['cpd_pred_pv'], x=test['cpd_conc_umol'])"
   ]
  },
  {
   "cell_type": "code",
   "execution_count": 20,
   "metadata": {},
   "outputs": [],
   "source": [
    "ctrp_auc = ctrp.reset_index().groupby(['experiment_id', 'master_cpd_id']).apply(lambda grp: simps(y=grp['cpd_pred_pv'], x=grp['cpd_conc_umol']))"
   ]
  },
  {
   "cell_type": "code",
   "execution_count": 22,
   "metadata": {},
   "outputs": [
    {
     "data": {
      "text/html": [
       "<div>\n",
       "<style scoped>\n",
       "    .dataframe tbody tr th:only-of-type {\n",
       "        vertical-align: middle;\n",
       "    }\n",
       "\n",
       "    .dataframe tbody tr th {\n",
       "        vertical-align: top;\n",
       "    }\n",
       "\n",
       "    .dataframe thead th {\n",
       "        text-align: right;\n",
       "    }\n",
       "</style>\n",
       "<table border=\"1\" class=\"dataframe\">\n",
       "  <thead>\n",
       "    <tr style=\"text-align: right;\">\n",
       "      <th></th>\n",
       "      <th>experiment_id</th>\n",
       "      <th>master_cpd_id</th>\n",
       "      <th>0</th>\n",
       "    </tr>\n",
       "  </thead>\n",
       "  <tbody>\n",
       "    <tr>\n",
       "      <th>0</th>\n",
       "      <td>1</td>\n",
       "      <td>1788</td>\n",
       "      <td>7.852044</td>\n",
       "    </tr>\n",
       "    <tr>\n",
       "      <th>1</th>\n",
       "      <td>1</td>\n",
       "      <td>3588</td>\n",
       "      <td>81.942850</td>\n",
       "    </tr>\n",
       "    <tr>\n",
       "      <th>2</th>\n",
       "      <td>1</td>\n",
       "      <td>12877</td>\n",
       "      <td>38.386128</td>\n",
       "    </tr>\n",
       "    <tr>\n",
       "      <th>3</th>\n",
       "      <td>1</td>\n",
       "      <td>19153</td>\n",
       "      <td>110.412857</td>\n",
       "    </tr>\n",
       "    <tr>\n",
       "      <th>4</th>\n",
       "      <td>1</td>\n",
       "      <td>23256</td>\n",
       "      <td>22.256614</td>\n",
       "    </tr>\n",
       "    <tr>\n",
       "      <th>...</th>\n",
       "      <td>...</td>\n",
       "      <td>...</td>\n",
       "      <td>...</td>\n",
       "    </tr>\n",
       "    <tr>\n",
       "      <th>395258</th>\n",
       "      <td>907</td>\n",
       "      <td>688975</td>\n",
       "      <td>6.724182</td>\n",
       "    </tr>\n",
       "    <tr>\n",
       "      <th>395259</th>\n",
       "      <td>907</td>\n",
       "      <td>689136</td>\n",
       "      <td>36.310634</td>\n",
       "    </tr>\n",
       "    <tr>\n",
       "      <th>395260</th>\n",
       "      <td>907</td>\n",
       "      <td>689506</td>\n",
       "      <td>5.575097</td>\n",
       "    </tr>\n",
       "    <tr>\n",
       "      <th>395261</th>\n",
       "      <td>907</td>\n",
       "      <td>705300</td>\n",
       "      <td>29.834396</td>\n",
       "    </tr>\n",
       "    <tr>\n",
       "      <th>395262</th>\n",
       "      <td>907</td>\n",
       "      <td>710154</td>\n",
       "      <td>60.660715</td>\n",
       "    </tr>\n",
       "  </tbody>\n",
       "</table>\n",
       "<p>395263 rows × 3 columns</p>\n",
       "</div>"
      ],
      "text/plain": [
       "        experiment_id  master_cpd_id           0\n",
       "0                   1           1788    7.852044\n",
       "1                   1           3588   81.942850\n",
       "2                   1          12877   38.386128\n",
       "3                   1          19153  110.412857\n",
       "4                   1          23256   22.256614\n",
       "...               ...            ...         ...\n",
       "395258            907         688975    6.724182\n",
       "395259            907         689136   36.310634\n",
       "395260            907         689506    5.575097\n",
       "395261            907         705300   29.834396\n",
       "395262            907         710154   60.660715\n",
       "\n",
       "[395263 rows x 3 columns]"
      ]
     },
     "execution_count": 22,
     "metadata": {},
     "output_type": "execute_result"
    }
   ],
   "source": [
    "ctrp_auc.reset_index()"
   ]
  },
  {
   "cell_type": "code",
   "execution_count": 28,
   "metadata": {},
   "outputs": [
    {
     "data": {
      "text/plain": [
       "<AxesSubplot:xlabel='cpd_conc_umol'>"
      ]
     },
     "execution_count": 28,
     "metadata": {},
     "output_type": "execute_result"
    },
    {
     "data": {
      "image/png": "[encoded data removed]",
      "text/plain": [
       "<Figure size 432x288 with 1 Axes>"
      ]
     },
     "metadata": {
      "needs_background": "light"
     },
     "output_type": "display_data"
    },
    {
     "data": {
      "image/png": "[encoded data removed]",
      "text/plain": [
       "<Figure size 432x288 with 1 Axes>"
      ]
     },
     "metadata": {
      "needs_background": "light"
     },
     "output_type": "display_data"
    },
    {
     "data": {
      "image/png": "[encoded data removed]",
      "text/plain": [
       "<Figure size 432x288 with 1 Axes>"
      ]
     },
     "metadata": {
      "needs_background": "light"
     },
     "output_type": "display_data"
    }
   ],
   "source": [
    "ctrp[ctrp['master_cpd_id']==1788].loc[1].plot('cpd_conc_umol', 'cpd_pred_pv')\n",
    "ctrp[ctrp['master_cpd_id']==3588].loc[1].plot('cpd_conc_umol', 'cpd_pred_pv')\n",
    "ctrp[ctrp['master_cpd_id']==12877].loc[1].plot('cpd_conc_umol', 'cpd_pred_pv')"
   ]
  },
  {
   "cell_type": "code",
   "execution_count": 30,
   "metadata": {},
   "outputs": [
    {
     "data": {
      "text/plain": [
       "16    319236\n",
       "15     39154\n",
       "14     16910\n",
       "13      7652\n",
       "12      5485\n",
       "11      2255\n",
       "8       1431\n",
       "10      1398\n",
       "9        907\n",
       "17       720\n",
       "29        84\n",
       "28        12\n",
       "25         8\n",
       "24         4\n",
       "27         3\n",
       "23         2\n",
       "26         2\n",
       "dtype: int64"
      ]
     },
     "execution_count": 30,
     "metadata": {},
     "output_type": "execute_result"
    }
   ],
   "source": [
    "ctrp.reset_index().groupby(['experiment_id', 'master_cpd_id']).size().value_counts()"
   ]
  },
  {
   "cell_type": "code",
   "execution_count": 34,
   "metadata": {},
   "outputs": [
    {
     "data": {
      "text/plain": [
       "<AxesSubplot:>"
      ]
     },
     "execution_count": 34,
     "metadata": {},
     "output_type": "execute_result"
    },
    {
     "data": {
      "image/png": "[encoded data removed]",
      "text/plain": [
       "<Figure size 432x288 with 1 Axes>"
      ]
     },
     "metadata": {
      "needs_background": "light"
     },
     "output_type": "display_data"
    }
   ],
   "source": [
    "ctrp['cpd_avg_pv'].hist()\n",
    "ctrp['cpd_pred_pv'].hist()"
   ]
  },
  {
   "cell_type": "code",
   "execution_count": 35,
   "metadata": {},
   "outputs": [
    {
     "data": {
      "text/html": [
       "<div>\n",
       "<style scoped>\n",
       "    .dataframe tbody tr th:only-of-type {\n",
       "        vertical-align: middle;\n",
       "    }\n",
       "\n",
       "    .dataframe tbody tr th {\n",
       "        vertical-align: top;\n",
       "    }\n",
       "\n",
       "    .dataframe thead th {\n",
       "        text-align: right;\n",
       "    }\n",
       "</style>\n",
       "<table border=\"1\" class=\"dataframe\">\n",
       "  <thead>\n",
       "    <tr style=\"text-align: right;\">\n",
       "      <th></th>\n",
       "      <th>cpd_pv_errorbar</th>\n",
       "      <th>cpd_pred_pv</th>\n",
       "      <th>cpd_avg_pv</th>\n",
       "      <th>cpd_conc_umol</th>\n",
       "      <th>master_cpd_id</th>\n",
       "    </tr>\n",
       "    <tr>\n",
       "      <th>experiment_id</th>\n",
       "      <th></th>\n",
       "      <th></th>\n",
       "      <th></th>\n",
       "      <th></th>\n",
       "      <th></th>\n",
       "    </tr>\n",
       "  </thead>\n",
       "  <tbody>\n",
       "    <tr>\n",
       "      <th>1</th>\n",
       "      <td>0.2658</td>\n",
       "      <td>-0.004068</td>\n",
       "      <td>0.012780</td>\n",
       "      <td>100.0</td>\n",
       "      <td>26972</td>\n",
       "    </tr>\n",
       "    <tr>\n",
       "      <th>1</th>\n",
       "      <td>0.5276</td>\n",
       "      <td>-0.018670</td>\n",
       "      <td>0.030480</td>\n",
       "      <td>170.0</td>\n",
       "      <td>28452</td>\n",
       "    </tr>\n",
       "    <tr>\n",
       "      <th>1</th>\n",
       "      <td>0.1708</td>\n",
       "      <td>-0.008464</td>\n",
       "      <td>0.011060</td>\n",
       "      <td>33.0</td>\n",
       "      <td>50715</td>\n",
       "    </tr>\n",
       "    <tr>\n",
       "      <th>1</th>\n",
       "      <td>0.2097</td>\n",
       "      <td>-0.050210</td>\n",
       "      <td>0.013020</td>\n",
       "      <td>66.0</td>\n",
       "      <td>349002</td>\n",
       "    </tr>\n",
       "    <tr>\n",
       "      <th>1</th>\n",
       "      <td>0.2274</td>\n",
       "      <td>-0.027140</td>\n",
       "      <td>0.017170</td>\n",
       "      <td>300.0</td>\n",
       "      <td>411731</td>\n",
       "    </tr>\n",
       "    <tr>\n",
       "      <th>...</th>\n",
       "      <td>...</td>\n",
       "      <td>...</td>\n",
       "      <td>...</td>\n",
       "      <td>...</td>\n",
       "      <td>...</td>\n",
       "    </tr>\n",
       "    <tr>\n",
       "      <th>907</th>\n",
       "      <td>0.2639</td>\n",
       "      <td>-0.029330</td>\n",
       "      <td>0.024970</td>\n",
       "      <td>37.0</td>\n",
       "      <td>375264</td>\n",
       "    </tr>\n",
       "    <tr>\n",
       "      <th>907</th>\n",
       "      <td>0.1918</td>\n",
       "      <td>-0.093130</td>\n",
       "      <td>0.005087</td>\n",
       "      <td>37.0</td>\n",
       "      <td>411808</td>\n",
       "    </tr>\n",
       "    <tr>\n",
       "      <th>907</th>\n",
       "      <td>0.2035</td>\n",
       "      <td>-0.051600</td>\n",
       "      <td>0.028950</td>\n",
       "      <td>66.0</td>\n",
       "      <td>606136</td>\n",
       "    </tr>\n",
       "    <tr>\n",
       "      <th>907</th>\n",
       "      <td>0.2904</td>\n",
       "      <td>-0.015490</td>\n",
       "      <td>0.019310</td>\n",
       "      <td>66.0</td>\n",
       "      <td>660287</td>\n",
       "    </tr>\n",
       "    <tr>\n",
       "      <th>907</th>\n",
       "      <td>0.1452</td>\n",
       "      <td>-0.002505</td>\n",
       "      <td>0.016250</td>\n",
       "      <td>66.0</td>\n",
       "      <td>660434</td>\n",
       "    </tr>\n",
       "  </tbody>\n",
       "</table>\n",
       "<p>11280 rows × 5 columns</p>\n",
       "</div>"
      ],
      "text/plain": [
       "               cpd_pv_errorbar  cpd_pred_pv  cpd_avg_pv  cpd_conc_umol  \\\n",
       "experiment_id                                                            \n",
       "1                       0.2658    -0.004068    0.012780          100.0   \n",
       "1                       0.5276    -0.018670    0.030480          170.0   \n",
       "1                       0.1708    -0.008464    0.011060           33.0   \n",
       "1                       0.2097    -0.050210    0.013020           66.0   \n",
       "1                       0.2274    -0.027140    0.017170          300.0   \n",
       "...                        ...          ...         ...            ...   \n",
       "907                     0.2639    -0.029330    0.024970           37.0   \n",
       "907                     0.1918    -0.093130    0.005087           37.0   \n",
       "907                     0.2035    -0.051600    0.028950           66.0   \n",
       "907                     0.2904    -0.015490    0.019310           66.0   \n",
       "907                     0.1452    -0.002505    0.016250           66.0   \n",
       "\n",
       "               master_cpd_id  \n",
       "experiment_id                 \n",
       "1                      26972  \n",
       "1                      28452  \n",
       "1                      50715  \n",
       "1                     349002  \n",
       "1                     411731  \n",
       "...                      ...  \n",
       "907                   375264  \n",
       "907                   411808  \n",
       "907                   606136  \n",
       "907                   660287  \n",
       "907                   660434  \n",
       "\n",
       "[11280 rows x 5 columns]"
      ]
     },
     "execution_count": 35,
     "metadata": {},
     "output_type": "execute_result"
    }
   ],
   "source": [
    "ctrp[ctrp['cpd_pred_pv'] < 0]"
   ]
  },
  {
   "cell_type": "code",
   "execution_count": 45,
   "metadata": {},
   "outputs": [
    {
     "name": "stdout",
     "output_type": "stream",
     "text": [
      "0\n",
      "1\n",
      "2\n",
      "3\n",
      "4\n"
     ]
    }
   ],
   "source": [
    "for f in range(5):\n",
    "    print(f)"
   ]
  },
  {
   "cell_type": "code",
   "execution_count": null,
   "metadata": {},
   "outputs": [],
   "source": []
  }
 ],
 "metadata": {
  "kernelspec": {
   "display_name": "Python [conda env:lightning]",
   "language": "python",
   "name": "conda-env-lightning-py"
  },
  "language_info": {
   "codemirror_mode": {
    "name": "ipython",
    "version": 3
   },
   "file_extension": ".py",
   "mimetype": "text/x-python",
   "name": "python",
   "nbconvert_exporter": "python",
   "pygments_lexer": "ipython3",
   "version": "3.8.6"
  }
 },
 "nbformat": 4,
 "nbformat_minor": 2
}
